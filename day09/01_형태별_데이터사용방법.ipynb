{
 "cells": [
  {
   "cell_type": "code",
   "execution_count": 1,
   "id": "b05d38f0",
   "metadata": {},
   "outputs": [],
   "source": [
    "import pandas as pd"
   ]
  },
  {
   "cell_type": "code",
   "execution_count": null,
   "id": "7f8706e5",
   "metadata": {},
   "outputs": [],
   "source": [
    "# bicycle.csv 파일을 읽어 들인 후 조회...\n",
    "# 데이터프레임 변수 df1"
   ]
  },
  {
   "cell_type": "code",
   "execution_count": 3,
   "id": "9d5e0474",
   "metadata": {},
   "outputs": [
    {
     "data": {
      "text/html": [
       "<div>\n",
       "<style scoped>\n",
       "    .dataframe tbody tr th:only-of-type {\n",
       "        vertical-align: middle;\n",
       "    }\n",
       "\n",
       "    .dataframe tbody tr th {\n",
       "        vertical-align: top;\n",
       "    }\n",
       "\n",
       "    .dataframe thead th {\n",
       "        text-align: right;\n",
       "    }\n",
       "</style>\n",
       "<table border=\"1\" class=\"dataframe\">\n",
       "  <thead>\n",
       "    <tr style=\"text-align: right;\">\n",
       "      <th></th>\n",
       "      <th>자전거번호</th>\n",
       "      <th>대여일시</th>\n",
       "      <th>대여소번호</th>\n",
       "      <th>대여소명</th>\n",
       "      <th>대여거치대</th>\n",
       "      <th>반납일시</th>\n",
       "      <th>반납대여소번호</th>\n",
       "      <th>반납대여소명</th>\n",
       "      <th>반납거치대</th>\n",
       "      <th>이용시간</th>\n",
       "      <th>이용거리</th>\n",
       "    </tr>\n",
       "  </thead>\n",
       "  <tbody>\n",
       "    <tr>\n",
       "      <th>0</th>\n",
       "      <td>SPB-23220</td>\n",
       "      <td>2019-11-01 8:48</td>\n",
       "      <td>646</td>\n",
       "      <td>장한평역 1번출구 (국민은행앞)</td>\n",
       "      <td>3.0</td>\n",
       "      <td>2019-11-01 9:01</td>\n",
       "      <td>3</td>\n",
       "      <td>중랑센터</td>\n",
       "      <td>7.0</td>\n",
       "      <td>12.0</td>\n",
       "      <td>1100.0</td>\n",
       "    </tr>\n",
       "    <tr>\n",
       "      <th>1</th>\n",
       "      <td>SPB-16216</td>\n",
       "      <td>2019-11-04 8:38</td>\n",
       "      <td>646</td>\n",
       "      <td>장한평역 1번출구 (국민은행앞)</td>\n",
       "      <td>2.0</td>\n",
       "      <td>2019-11-04 8:56</td>\n",
       "      <td>3</td>\n",
       "      <td>중랑센터</td>\n",
       "      <td>2.0</td>\n",
       "      <td>7.0</td>\n",
       "      <td>1420.0</td>\n",
       "    </tr>\n",
       "    <tr>\n",
       "      <th>2</th>\n",
       "      <td>SPB-21097</td>\n",
       "      <td>2019-11-04 8:46</td>\n",
       "      <td>646</td>\n",
       "      <td>장한평역 1번출구 (국민은행앞)</td>\n",
       "      <td>1.0</td>\n",
       "      <td>2019-11-04 8:57</td>\n",
       "      <td>3</td>\n",
       "      <td>중랑센터</td>\n",
       "      <td>7.0</td>\n",
       "      <td>10.0</td>\n",
       "      <td>NaN</td>\n",
       "    </tr>\n",
       "    <tr>\n",
       "      <th>3</th>\n",
       "      <td>SPB-22292</td>\n",
       "      <td>2019-11-05 8:34</td>\n",
       "      <td>646</td>\n",
       "      <td>장한평역 1번출구 (국민은행앞)</td>\n",
       "      <td>1.0</td>\n",
       "      <td>2019-11-05 8:45</td>\n",
       "      <td>3</td>\n",
       "      <td>중랑센터</td>\n",
       "      <td>NaN</td>\n",
       "      <td>10.0</td>\n",
       "      <td>1380.0</td>\n",
       "    </tr>\n",
       "    <tr>\n",
       "      <th>4</th>\n",
       "      <td>SPB-07935</td>\n",
       "      <td>2019-11-05 12:29</td>\n",
       "      <td>512</td>\n",
       "      <td>뚝섬역 1번 출구 옆</td>\n",
       "      <td>11.0</td>\n",
       "      <td>2019-11-05 12:39</td>\n",
       "      <td>3</td>\n",
       "      <td>중랑센터</td>\n",
       "      <td>7.0</td>\n",
       "      <td>10.0</td>\n",
       "      <td>1650.0</td>\n",
       "    </tr>\n",
       "    <tr>\n",
       "      <th>...</th>\n",
       "      <td>...</td>\n",
       "      <td>...</td>\n",
       "      <td>...</td>\n",
       "      <td>...</td>\n",
       "      <td>...</td>\n",
       "      <td>...</td>\n",
       "      <td>...</td>\n",
       "      <td>...</td>\n",
       "      <td>...</td>\n",
       "      <td>...</td>\n",
       "      <td>...</td>\n",
       "    </tr>\n",
       "    <tr>\n",
       "      <th>415</th>\n",
       "      <td>SPB-12116</td>\n",
       "      <td>2019-11-15 4:22</td>\n",
       "      <td>112</td>\n",
       "      <td>극동방송국 앞</td>\n",
       "      <td>5.0</td>\n",
       "      <td>2019-11-15 4:33</td>\n",
       "      <td>101</td>\n",
       "      <td>(구)합정동 주민센터</td>\n",
       "      <td>1.0</td>\n",
       "      <td>11.0</td>\n",
       "      <td>2200.0</td>\n",
       "    </tr>\n",
       "    <tr>\n",
       "      <th>416</th>\n",
       "      <td>SPB-17768</td>\n",
       "      <td>2019-11-15 9:31</td>\n",
       "      <td>103</td>\n",
       "      <td>망원역 2번출구 앞</td>\n",
       "      <td>14.0</td>\n",
       "      <td>2019-11-15 9:37</td>\n",
       "      <td>101</td>\n",
       "      <td>(구)합정동 주민센터</td>\n",
       "      <td>NaN</td>\n",
       "      <td>5.0</td>\n",
       "      <td>NaN</td>\n",
       "    </tr>\n",
       "    <tr>\n",
       "      <th>417</th>\n",
       "      <td>SPB-18841</td>\n",
       "      <td>2019-11-15 20:40</td>\n",
       "      <td>113</td>\n",
       "      <td>홍대입구역 2번출구 앞</td>\n",
       "      <td>24.0</td>\n",
       "      <td>2019-11-15 20:53</td>\n",
       "      <td>101</td>\n",
       "      <td>(구)합정동 주민센터</td>\n",
       "      <td>1.0</td>\n",
       "      <td>12.0</td>\n",
       "      <td>2280.0</td>\n",
       "    </tr>\n",
       "    <tr>\n",
       "      <th>418</th>\n",
       "      <td>SPB-24467</td>\n",
       "      <td>2019-11-15 21:55</td>\n",
       "      <td>152</td>\n",
       "      <td>마포구민체육센터 앞</td>\n",
       "      <td>18.0</td>\n",
       "      <td>2019-11-15 22:05</td>\n",
       "      <td>101</td>\n",
       "      <td>(구)합정동 주민센터</td>\n",
       "      <td>1.0</td>\n",
       "      <td>10.0</td>\n",
       "      <td>1180.0</td>\n",
       "    </tr>\n",
       "    <tr>\n",
       "      <th>419</th>\n",
       "      <td>SPB-17570</td>\n",
       "      <td>2019-11-15 22:16</td>\n",
       "      <td>391</td>\n",
       "      <td>정동길입구</td>\n",
       "      <td>7.0</td>\n",
       "      <td>2019-11-15 23:04</td>\n",
       "      <td>101</td>\n",
       "      <td>(구)합정동 주민센터</td>\n",
       "      <td>5.0</td>\n",
       "      <td>48.0</td>\n",
       "      <td>8100.0</td>\n",
       "    </tr>\n",
       "  </tbody>\n",
       "</table>\n",
       "<p>420 rows × 11 columns</p>\n",
       "</div>"
      ],
      "text/plain": [
       "         자전거번호              대여일시  대여소번호               대여소명  대여거치대  \\\n",
       "0    SPB-23220   2019-11-01 8:48    646  장한평역 1번출구 (국민은행앞)    3.0   \n",
       "1    SPB-16216   2019-11-04 8:38    646  장한평역 1번출구 (국민은행앞)    2.0   \n",
       "2    SPB-21097   2019-11-04 8:46    646  장한평역 1번출구 (국민은행앞)    1.0   \n",
       "3    SPB-22292   2019-11-05 8:34    646  장한평역 1번출구 (국민은행앞)    1.0   \n",
       "4    SPB-07935  2019-11-05 12:29    512        뚝섬역 1번 출구 옆   11.0   \n",
       "..         ...               ...    ...                ...    ...   \n",
       "415  SPB-12116   2019-11-15 4:22    112            극동방송국 앞    5.0   \n",
       "416  SPB-17768   2019-11-15 9:31    103         망원역 2번출구 앞   14.0   \n",
       "417  SPB-18841  2019-11-15 20:40    113       홍대입구역 2번출구 앞   24.0   \n",
       "418  SPB-24467  2019-11-15 21:55    152         마포구민체육센터 앞   18.0   \n",
       "419  SPB-17570  2019-11-15 22:16    391              정동길입구    7.0   \n",
       "\n",
       "                 반납일시  반납대여소번호       반납대여소명  반납거치대  이용시간    이용거리  \n",
       "0     2019-11-01 9:01        3         중랑센터    7.0  12.0  1100.0  \n",
       "1     2019-11-04 8:56        3         중랑센터    2.0   7.0  1420.0  \n",
       "2     2019-11-04 8:57        3         중랑센터    7.0  10.0     NaN  \n",
       "3     2019-11-05 8:45        3         중랑센터    NaN  10.0  1380.0  \n",
       "4    2019-11-05 12:39        3         중랑센터    7.0  10.0  1650.0  \n",
       "..                ...      ...          ...    ...   ...     ...  \n",
       "415   2019-11-15 4:33      101  (구)합정동 주민센터    1.0  11.0  2200.0  \n",
       "416   2019-11-15 9:37      101  (구)합정동 주민센터    NaN   5.0     NaN  \n",
       "417  2019-11-15 20:53      101  (구)합정동 주민센터    1.0  12.0  2280.0  \n",
       "418  2019-11-15 22:05      101  (구)합정동 주민센터    1.0  10.0  1180.0  \n",
       "419  2019-11-15 23:04      101  (구)합정동 주민센터    5.0  48.0  8100.0  \n",
       "\n",
       "[420 rows x 11 columns]"
      ]
     },
     "execution_count": 3,
     "metadata": {},
     "output_type": "execute_result"
    }
   ],
   "source": [
    "file_path = './data/bicycle.csv'\n",
    "df1 = pd.read_csv(file_path, encoding='euc-kr')\n",
    "df1"
   ]
  },
  {
   "cell_type": "code",
   "execution_count": 5,
   "id": "e5f0693e",
   "metadata": {},
   "outputs": [
    {
     "name": "stdout",
     "output_type": "stream",
     "text": [
      "<class 'pandas.core.frame.DataFrame'>\n",
      "RangeIndex: 420 entries, 0 to 419\n",
      "Data columns (total 11 columns):\n",
      " #   Column   Non-Null Count  Dtype  \n",
      "---  ------   --------------  -----  \n",
      " 0   자전거번호    420 non-null    object \n",
      " 1   대여일시     420 non-null    object \n",
      " 2   대여소번호    420 non-null    int64  \n",
      " 3   대여소명     420 non-null    object \n",
      " 4   대여거치대    396 non-null    float64\n",
      " 5   반납일시     420 non-null    object \n",
      " 6   반납대여소번호  420 non-null    int64  \n",
      " 7   반납대여소명   420 non-null    object \n",
      " 8   반납거치대    409 non-null    float64\n",
      " 9   이용시간     405 non-null    float64\n",
      " 10  이용거리     404 non-null    float64\n",
      "dtypes: float64(4), int64(2), object(5)\n",
      "memory usage: 36.2+ KB\n"
     ]
    }
   ],
   "source": [
    "df1.info()"
   ]
  },
  {
   "cell_type": "code",
   "execution_count": 8,
   "id": "addcc131",
   "metadata": {},
   "outputs": [
    {
     "data": {
      "text/html": [
       "<div>\n",
       "<style scoped>\n",
       "    .dataframe tbody tr th:only-of-type {\n",
       "        vertical-align: middle;\n",
       "    }\n",
       "\n",
       "    .dataframe tbody tr th {\n",
       "        vertical-align: top;\n",
       "    }\n",
       "\n",
       "    .dataframe thead th {\n",
       "        text-align: right;\n",
       "    }\n",
       "</style>\n",
       "<table border=\"1\" class=\"dataframe\">\n",
       "  <thead>\n",
       "    <tr style=\"text-align: right;\">\n",
       "      <th></th>\n",
       "      <th>대여소번호</th>\n",
       "      <th>대여거치대</th>\n",
       "      <th>반납대여소번호</th>\n",
       "      <th>반납거치대</th>\n",
       "      <th>이용시간</th>\n",
       "      <th>이용거리</th>\n",
       "    </tr>\n",
       "  </thead>\n",
       "  <tbody>\n",
       "    <tr>\n",
       "      <th>count</th>\n",
       "      <td>420.000000</td>\n",
       "      <td>396.000000</td>\n",
       "      <td>420.000000</td>\n",
       "      <td>409.000000</td>\n",
       "      <td>405.000000</td>\n",
       "      <td>404.000000</td>\n",
       "    </tr>\n",
       "    <tr>\n",
       "      <th>mean</th>\n",
       "      <td>243.254762</td>\n",
       "      <td>7.585859</td>\n",
       "      <td>93.338095</td>\n",
       "      <td>2.831296</td>\n",
       "      <td>21.269136</td>\n",
       "      <td>2679.678218</td>\n",
       "    </tr>\n",
       "    <tr>\n",
       "      <th>std</th>\n",
       "      <td>301.148255</td>\n",
       "      <td>6.258985</td>\n",
       "      <td>26.270667</td>\n",
       "      <td>1.687148</td>\n",
       "      <td>20.237064</td>\n",
       "      <td>3028.272755</td>\n",
       "    </tr>\n",
       "    <tr>\n",
       "      <th>min</th>\n",
       "      <td>3.000000</td>\n",
       "      <td>1.000000</td>\n",
       "      <td>3.000000</td>\n",
       "      <td>1.000000</td>\n",
       "      <td>2.000000</td>\n",
       "      <td>0.000000</td>\n",
       "    </tr>\n",
       "    <tr>\n",
       "      <th>25%</th>\n",
       "      <td>104.000000</td>\n",
       "      <td>3.000000</td>\n",
       "      <td>101.000000</td>\n",
       "      <td>1.000000</td>\n",
       "      <td>7.000000</td>\n",
       "      <td>1070.000000</td>\n",
       "    </tr>\n",
       "    <tr>\n",
       "      <th>50%</th>\n",
       "      <td>117.500000</td>\n",
       "      <td>6.000000</td>\n",
       "      <td>101.000000</td>\n",
       "      <td>2.000000</td>\n",
       "      <td>14.000000</td>\n",
       "      <td>1680.000000</td>\n",
       "    </tr>\n",
       "    <tr>\n",
       "      <th>75%</th>\n",
       "      <td>226.500000</td>\n",
       "      <td>10.000000</td>\n",
       "      <td>101.000000</td>\n",
       "      <td>4.000000</td>\n",
       "      <td>27.000000</td>\n",
       "      <td>3757.500000</td>\n",
       "    </tr>\n",
       "    <tr>\n",
       "      <th>max</th>\n",
       "      <td>3102.000000</td>\n",
       "      <td>30.000000</td>\n",
       "      <td>101.000000</td>\n",
       "      <td>7.000000</td>\n",
       "      <td>122.000000</td>\n",
       "      <td>42070.000000</td>\n",
       "    </tr>\n",
       "  </tbody>\n",
       "</table>\n",
       "</div>"
      ],
      "text/plain": [
       "             대여소번호       대여거치대     반납대여소번호       반납거치대        이용시간  \\\n",
       "count   420.000000  396.000000  420.000000  409.000000  405.000000   \n",
       "mean    243.254762    7.585859   93.338095    2.831296   21.269136   \n",
       "std     301.148255    6.258985   26.270667    1.687148   20.237064   \n",
       "min       3.000000    1.000000    3.000000    1.000000    2.000000   \n",
       "25%     104.000000    3.000000  101.000000    1.000000    7.000000   \n",
       "50%     117.500000    6.000000  101.000000    2.000000   14.000000   \n",
       "75%     226.500000   10.000000  101.000000    4.000000   27.000000   \n",
       "max    3102.000000   30.000000  101.000000    7.000000  122.000000   \n",
       "\n",
       "               이용거리  \n",
       "count    404.000000  \n",
       "mean    2679.678218  \n",
       "std     3028.272755  \n",
       "min        0.000000  \n",
       "25%     1070.000000  \n",
       "50%     1680.000000  \n",
       "75%     3757.500000  \n",
       "max    42070.000000  "
      ]
     },
     "execution_count": 8,
     "metadata": {},
     "output_type": "execute_result"
    }
   ],
   "source": [
    "df1.describe()"
   ]
  },
  {
   "cell_type": "code",
   "execution_count": null,
   "id": "f5b57990",
   "metadata": {},
   "outputs": [],
   "source": [
    "# bicycle.xlsx 파일 읽어들인 후 조회\n",
    "# 변수명 df2"
   ]
  },
  {
   "cell_type": "code",
   "execution_count": 9,
   "id": "5c736b60",
   "metadata": {},
   "outputs": [
    {
     "data": {
      "text/html": [
       "<div>\n",
       "<style scoped>\n",
       "    .dataframe tbody tr th:only-of-type {\n",
       "        vertical-align: middle;\n",
       "    }\n",
       "\n",
       "    .dataframe tbody tr th {\n",
       "        vertical-align: top;\n",
       "    }\n",
       "\n",
       "    .dataframe thead th {\n",
       "        text-align: right;\n",
       "    }\n",
       "</style>\n",
       "<table border=\"1\" class=\"dataframe\">\n",
       "  <thead>\n",
       "    <tr style=\"text-align: right;\">\n",
       "      <th></th>\n",
       "      <th>자전거번호</th>\n",
       "      <th>대여일시</th>\n",
       "      <th>대여소번호</th>\n",
       "      <th>대여소명</th>\n",
       "      <th>대여거치대</th>\n",
       "      <th>반납일시</th>\n",
       "      <th>반납대여소번호</th>\n",
       "      <th>반납대여소명</th>\n",
       "      <th>반납거치대</th>\n",
       "      <th>이용시간</th>\n",
       "      <th>이용거리</th>\n",
       "    </tr>\n",
       "  </thead>\n",
       "  <tbody>\n",
       "    <tr>\n",
       "      <th>0</th>\n",
       "      <td>SPB-23220</td>\n",
       "      <td>2019-11-01 08:48:31</td>\n",
       "      <td>646</td>\n",
       "      <td>장한평역 1번출구 (국민은행앞)</td>\n",
       "      <td>3.0</td>\n",
       "      <td>2019-11-01 09:01:24</td>\n",
       "      <td>3</td>\n",
       "      <td>중랑센터</td>\n",
       "      <td>7.0</td>\n",
       "      <td>12.0</td>\n",
       "      <td>1100.0</td>\n",
       "    </tr>\n",
       "    <tr>\n",
       "      <th>1</th>\n",
       "      <td>SPB-16216</td>\n",
       "      <td>2019-11-04 08:38:39</td>\n",
       "      <td>646</td>\n",
       "      <td>장한평역 1번출구 (국민은행앞)</td>\n",
       "      <td>2.0</td>\n",
       "      <td>2019-11-04 08:56:33</td>\n",
       "      <td>3</td>\n",
       "      <td>중랑센터</td>\n",
       "      <td>2.0</td>\n",
       "      <td>7.0</td>\n",
       "      <td>1420.0</td>\n",
       "    </tr>\n",
       "    <tr>\n",
       "      <th>2</th>\n",
       "      <td>SPB-21097</td>\n",
       "      <td>2019-11-04 08:46:37</td>\n",
       "      <td>646</td>\n",
       "      <td>장한평역 1번출구 (국민은행앞)</td>\n",
       "      <td>1.0</td>\n",
       "      <td>2019-11-04 08:57:35</td>\n",
       "      <td>3</td>\n",
       "      <td>중랑센터</td>\n",
       "      <td>7.0</td>\n",
       "      <td>10.0</td>\n",
       "      <td>NaN</td>\n",
       "    </tr>\n",
       "    <tr>\n",
       "      <th>3</th>\n",
       "      <td>SPB-22292</td>\n",
       "      <td>2019-11-05 08:34:59</td>\n",
       "      <td>646</td>\n",
       "      <td>장한평역 1번출구 (국민은행앞)</td>\n",
       "      <td>1.0</td>\n",
       "      <td>2019-11-05 08:45:45</td>\n",
       "      <td>3</td>\n",
       "      <td>중랑센터</td>\n",
       "      <td>NaN</td>\n",
       "      <td>10.0</td>\n",
       "      <td>1380.0</td>\n",
       "    </tr>\n",
       "    <tr>\n",
       "      <th>4</th>\n",
       "      <td>SPB-07935</td>\n",
       "      <td>2019-11-05 12:29:00</td>\n",
       "      <td>512</td>\n",
       "      <td>뚝섬역 1번 출구 옆</td>\n",
       "      <td>11.0</td>\n",
       "      <td>2019-11-05 12:39:37</td>\n",
       "      <td>3</td>\n",
       "      <td>중랑센터</td>\n",
       "      <td>7.0</td>\n",
       "      <td>10.0</td>\n",
       "      <td>1650.0</td>\n",
       "    </tr>\n",
       "    <tr>\n",
       "      <th>...</th>\n",
       "      <td>...</td>\n",
       "      <td>...</td>\n",
       "      <td>...</td>\n",
       "      <td>...</td>\n",
       "      <td>...</td>\n",
       "      <td>...</td>\n",
       "      <td>...</td>\n",
       "      <td>...</td>\n",
       "      <td>...</td>\n",
       "      <td>...</td>\n",
       "      <td>...</td>\n",
       "    </tr>\n",
       "    <tr>\n",
       "      <th>415</th>\n",
       "      <td>SPB-12116</td>\n",
       "      <td>2019-11-15 04:22:13</td>\n",
       "      <td>112</td>\n",
       "      <td>극동방송국 앞</td>\n",
       "      <td>5.0</td>\n",
       "      <td>2019-11-15 04:33:40</td>\n",
       "      <td>101</td>\n",
       "      <td>(구)합정동 주민센터</td>\n",
       "      <td>1.0</td>\n",
       "      <td>11.0</td>\n",
       "      <td>2200.0</td>\n",
       "    </tr>\n",
       "    <tr>\n",
       "      <th>416</th>\n",
       "      <td>SPB-17768</td>\n",
       "      <td>2019-11-15 09:31:48</td>\n",
       "      <td>103</td>\n",
       "      <td>망원역 2번출구 앞</td>\n",
       "      <td>14.0</td>\n",
       "      <td>2019-11-15 09:37:56</td>\n",
       "      <td>101</td>\n",
       "      <td>(구)합정동 주민센터</td>\n",
       "      <td>NaN</td>\n",
       "      <td>5.0</td>\n",
       "      <td>NaN</td>\n",
       "    </tr>\n",
       "    <tr>\n",
       "      <th>417</th>\n",
       "      <td>SPB-18841</td>\n",
       "      <td>2019-11-15 20:40:40</td>\n",
       "      <td>113</td>\n",
       "      <td>홍대입구역 2번출구 앞</td>\n",
       "      <td>24.0</td>\n",
       "      <td>2019-11-15 20:53:46</td>\n",
       "      <td>101</td>\n",
       "      <td>(구)합정동 주민센터</td>\n",
       "      <td>1.0</td>\n",
       "      <td>12.0</td>\n",
       "      <td>2280.0</td>\n",
       "    </tr>\n",
       "    <tr>\n",
       "      <th>418</th>\n",
       "      <td>SPB-24467</td>\n",
       "      <td>2019-11-15 21:55:13</td>\n",
       "      <td>152</td>\n",
       "      <td>마포구민체육센터 앞</td>\n",
       "      <td>18.0</td>\n",
       "      <td>2019-11-15 22:05:40</td>\n",
       "      <td>101</td>\n",
       "      <td>(구)합정동 주민센터</td>\n",
       "      <td>1.0</td>\n",
       "      <td>10.0</td>\n",
       "      <td>1180.0</td>\n",
       "    </tr>\n",
       "    <tr>\n",
       "      <th>419</th>\n",
       "      <td>SPB-17570</td>\n",
       "      <td>2019-11-15 22:16:08</td>\n",
       "      <td>391</td>\n",
       "      <td>정동길입구</td>\n",
       "      <td>7.0</td>\n",
       "      <td>2019-11-15 23:04:53</td>\n",
       "      <td>101</td>\n",
       "      <td>(구)합정동 주민센터</td>\n",
       "      <td>5.0</td>\n",
       "      <td>48.0</td>\n",
       "      <td>8100.0</td>\n",
       "    </tr>\n",
       "  </tbody>\n",
       "</table>\n",
       "<p>420 rows × 11 columns</p>\n",
       "</div>"
      ],
      "text/plain": [
       "         자전거번호                대여일시  대여소번호               대여소명  대여거치대  \\\n",
       "0    SPB-23220 2019-11-01 08:48:31    646  장한평역 1번출구 (국민은행앞)    3.0   \n",
       "1    SPB-16216 2019-11-04 08:38:39    646  장한평역 1번출구 (국민은행앞)    2.0   \n",
       "2    SPB-21097 2019-11-04 08:46:37    646  장한평역 1번출구 (국민은행앞)    1.0   \n",
       "3    SPB-22292 2019-11-05 08:34:59    646  장한평역 1번출구 (국민은행앞)    1.0   \n",
       "4    SPB-07935 2019-11-05 12:29:00    512        뚝섬역 1번 출구 옆   11.0   \n",
       "..         ...                 ...    ...                ...    ...   \n",
       "415  SPB-12116 2019-11-15 04:22:13    112            극동방송국 앞    5.0   \n",
       "416  SPB-17768 2019-11-15 09:31:48    103         망원역 2번출구 앞   14.0   \n",
       "417  SPB-18841 2019-11-15 20:40:40    113       홍대입구역 2번출구 앞   24.0   \n",
       "418  SPB-24467 2019-11-15 21:55:13    152         마포구민체육센터 앞   18.0   \n",
       "419  SPB-17570 2019-11-15 22:16:08    391              정동길입구    7.0   \n",
       "\n",
       "                   반납일시  반납대여소번호       반납대여소명  반납거치대  이용시간    이용거리  \n",
       "0   2019-11-01 09:01:24        3         중랑센터    7.0  12.0  1100.0  \n",
       "1   2019-11-04 08:56:33        3         중랑센터    2.0   7.0  1420.0  \n",
       "2   2019-11-04 08:57:35        3         중랑센터    7.0  10.0     NaN  \n",
       "3   2019-11-05 08:45:45        3         중랑센터    NaN  10.0  1380.0  \n",
       "4   2019-11-05 12:39:37        3         중랑센터    7.0  10.0  1650.0  \n",
       "..                  ...      ...          ...    ...   ...     ...  \n",
       "415 2019-11-15 04:33:40      101  (구)합정동 주민센터    1.0  11.0  2200.0  \n",
       "416 2019-11-15 09:37:56      101  (구)합정동 주민센터    NaN   5.0     NaN  \n",
       "417 2019-11-15 20:53:46      101  (구)합정동 주민센터    1.0  12.0  2280.0  \n",
       "418 2019-11-15 22:05:40      101  (구)합정동 주민센터    1.0  10.0  1180.0  \n",
       "419 2019-11-15 23:04:53      101  (구)합정동 주민센터    5.0  48.0  8100.0  \n",
       "\n",
       "[420 rows x 11 columns]"
      ]
     },
     "execution_count": 9,
     "metadata": {},
     "output_type": "execute_result"
    }
   ],
   "source": [
    "file_path = './data/bicycle.xlsx'\n",
    "df2 = pd.read_excel(file_path)\n",
    "df2"
   ]
  },
  {
   "cell_type": "code",
   "execution_count": 10,
   "id": "52b78f61",
   "metadata": {},
   "outputs": [
    {
     "name": "stdout",
     "output_type": "stream",
     "text": [
      "<class 'pandas.core.frame.DataFrame'>\n",
      "RangeIndex: 420 entries, 0 to 419\n",
      "Data columns (total 11 columns):\n",
      " #   Column   Non-Null Count  Dtype         \n",
      "---  ------   --------------  -----         \n",
      " 0   자전거번호    420 non-null    object        \n",
      " 1   대여일시     420 non-null    datetime64[ns]\n",
      " 2   대여소번호    420 non-null    int64         \n",
      " 3   대여소명     420 non-null    object        \n",
      " 4   대여거치대    396 non-null    float64       \n",
      " 5   반납일시     420 non-null    datetime64[ns]\n",
      " 6   반납대여소번호  420 non-null    int64         \n",
      " 7   반납대여소명   420 non-null    object        \n",
      " 8   반납거치대    409 non-null    float64       \n",
      " 9   이용시간     405 non-null    float64       \n",
      " 10  이용거리     404 non-null    float64       \n",
      "dtypes: datetime64[ns](2), float64(4), int64(2), object(3)\n",
      "memory usage: 36.2+ KB\n"
     ]
    }
   ],
   "source": [
    "df2.info()"
   ]
  },
  {
   "cell_type": "code",
   "execution_count": 11,
   "id": "10bfc6d8",
   "metadata": {},
   "outputs": [
    {
     "data": {
      "text/html": [
       "<div>\n",
       "<style scoped>\n",
       "    .dataframe tbody tr th:only-of-type {\n",
       "        vertical-align: middle;\n",
       "    }\n",
       "\n",
       "    .dataframe tbody tr th {\n",
       "        vertical-align: top;\n",
       "    }\n",
       "\n",
       "    .dataframe thead th {\n",
       "        text-align: right;\n",
       "    }\n",
       "</style>\n",
       "<table border=\"1\" class=\"dataframe\">\n",
       "  <thead>\n",
       "    <tr style=\"text-align: right;\">\n",
       "      <th></th>\n",
       "      <th>대여소번호</th>\n",
       "      <th>대여거치대</th>\n",
       "      <th>반납대여소번호</th>\n",
       "      <th>반납거치대</th>\n",
       "      <th>이용시간</th>\n",
       "      <th>이용거리</th>\n",
       "    </tr>\n",
       "  </thead>\n",
       "  <tbody>\n",
       "    <tr>\n",
       "      <th>count</th>\n",
       "      <td>420.000000</td>\n",
       "      <td>396.000000</td>\n",
       "      <td>420.000000</td>\n",
       "      <td>409.000000</td>\n",
       "      <td>405.000000</td>\n",
       "      <td>404.000000</td>\n",
       "    </tr>\n",
       "    <tr>\n",
       "      <th>mean</th>\n",
       "      <td>243.254762</td>\n",
       "      <td>7.585859</td>\n",
       "      <td>93.338095</td>\n",
       "      <td>2.831296</td>\n",
       "      <td>21.269136</td>\n",
       "      <td>2679.678218</td>\n",
       "    </tr>\n",
       "    <tr>\n",
       "      <th>std</th>\n",
       "      <td>301.148255</td>\n",
       "      <td>6.258985</td>\n",
       "      <td>26.270667</td>\n",
       "      <td>1.687148</td>\n",
       "      <td>20.237064</td>\n",
       "      <td>3028.272755</td>\n",
       "    </tr>\n",
       "    <tr>\n",
       "      <th>min</th>\n",
       "      <td>3.000000</td>\n",
       "      <td>1.000000</td>\n",
       "      <td>3.000000</td>\n",
       "      <td>1.000000</td>\n",
       "      <td>2.000000</td>\n",
       "      <td>0.000000</td>\n",
       "    </tr>\n",
       "    <tr>\n",
       "      <th>25%</th>\n",
       "      <td>104.000000</td>\n",
       "      <td>3.000000</td>\n",
       "      <td>101.000000</td>\n",
       "      <td>1.000000</td>\n",
       "      <td>7.000000</td>\n",
       "      <td>1070.000000</td>\n",
       "    </tr>\n",
       "    <tr>\n",
       "      <th>50%</th>\n",
       "      <td>117.500000</td>\n",
       "      <td>6.000000</td>\n",
       "      <td>101.000000</td>\n",
       "      <td>2.000000</td>\n",
       "      <td>14.000000</td>\n",
       "      <td>1680.000000</td>\n",
       "    </tr>\n",
       "    <tr>\n",
       "      <th>75%</th>\n",
       "      <td>226.500000</td>\n",
       "      <td>10.000000</td>\n",
       "      <td>101.000000</td>\n",
       "      <td>4.000000</td>\n",
       "      <td>27.000000</td>\n",
       "      <td>3757.500000</td>\n",
       "    </tr>\n",
       "    <tr>\n",
       "      <th>max</th>\n",
       "      <td>3102.000000</td>\n",
       "      <td>30.000000</td>\n",
       "      <td>101.000000</td>\n",
       "      <td>7.000000</td>\n",
       "      <td>122.000000</td>\n",
       "      <td>42070.000000</td>\n",
       "    </tr>\n",
       "  </tbody>\n",
       "</table>\n",
       "</div>"
      ],
      "text/plain": [
       "             대여소번호       대여거치대     반납대여소번호       반납거치대        이용시간  \\\n",
       "count   420.000000  396.000000  420.000000  409.000000  405.000000   \n",
       "mean    243.254762    7.585859   93.338095    2.831296   21.269136   \n",
       "std     301.148255    6.258985   26.270667    1.687148   20.237064   \n",
       "min       3.000000    1.000000    3.000000    1.000000    2.000000   \n",
       "25%     104.000000    3.000000  101.000000    1.000000    7.000000   \n",
       "50%     117.500000    6.000000  101.000000    2.000000   14.000000   \n",
       "75%     226.500000   10.000000  101.000000    4.000000   27.000000   \n",
       "max    3102.000000   30.000000  101.000000    7.000000  122.000000   \n",
       "\n",
       "               이용거리  \n",
       "count    404.000000  \n",
       "mean    2679.678218  \n",
       "std     3028.272755  \n",
       "min        0.000000  \n",
       "25%     1070.000000  \n",
       "50%     1680.000000  \n",
       "75%     3757.500000  \n",
       "max    42070.000000  "
      ]
     },
     "execution_count": 11,
     "metadata": {},
     "output_type": "execute_result"
    }
   ],
   "source": [
    "df2.describe()"
   ]
  },
  {
   "cell_type": "code",
   "execution_count": null,
   "id": "b05e51b1",
   "metadata": {},
   "outputs": [],
   "source": [
    "# read.json 파일 읽어 들이기\n",
    "# 변수 df3"
   ]
  },
  {
   "cell_type": "code",
   "execution_count": 14,
   "id": "9e96e50a",
   "metadata": {},
   "outputs": [
    {
     "data": {
      "text/html": [
       "<div>\n",
       "<style scoped>\n",
       "    .dataframe tbody tr th:only-of-type {\n",
       "        vertical-align: middle;\n",
       "    }\n",
       "\n",
       "    .dataframe tbody tr th {\n",
       "        vertical-align: top;\n",
       "    }\n",
       "\n",
       "    .dataframe thead th {\n",
       "        text-align: right;\n",
       "    }\n",
       "</style>\n",
       "<table border=\"1\" class=\"dataframe\">\n",
       "  <thead>\n",
       "    <tr style=\"text-align: right;\">\n",
       "      <th></th>\n",
       "      <th>1.FirstName</th>\n",
       "      <th>2.LastName</th>\n",
       "      <th>3.Age</th>\n",
       "      <th>4.University</th>\n",
       "      <th>5.Courses</th>\n",
       "    </tr>\n",
       "  </thead>\n",
       "  <tbody>\n",
       "    <tr>\n",
       "      <th>0</th>\n",
       "      <td>Gildong</td>\n",
       "      <td>Hong</td>\n",
       "      <td>20</td>\n",
       "      <td>Gachon University</td>\n",
       "      <td>{'Classes': ['Probability', 'Generalized Linea...</td>\n",
       "    </tr>\n",
       "    <tr>\n",
       "      <th>1</th>\n",
       "      <td>Gildong</td>\n",
       "      <td>Hong</td>\n",
       "      <td>20</td>\n",
       "      <td>Gachon University</td>\n",
       "      <td>{'Classes': ['Data Structure', 'Programming', ...</td>\n",
       "    </tr>\n",
       "  </tbody>\n",
       "</table>\n",
       "</div>"
      ],
      "text/plain": [
       "  1.FirstName 2.LastName  3.Age       4.University  \\\n",
       "0     Gildong       Hong     20  Gachon University   \n",
       "1     Gildong       Hong     20  Gachon University   \n",
       "\n",
       "                                           5.Courses  \n",
       "0  {'Classes': ['Probability', 'Generalized Linea...  \n",
       "1  {'Classes': ['Data Structure', 'Programming', ...  "
      ]
     },
     "execution_count": 14,
     "metadata": {},
     "output_type": "execute_result"
    }
   ],
   "source": [
    "file_path = './data/read.json'\n",
    "df3 = pd.read_json(file_path)\n",
    "df3"
   ]
  },
  {
   "cell_type": "code",
   "execution_count": null,
   "id": "4da52243",
   "metadata": {},
   "outputs": [],
   "source": [
    "# df1 저장하기\n",
    "# 저장위치 : data2 폴더\n",
    "# 저장파일명 : sample_data.csv"
   ]
  },
  {
   "cell_type": "code",
   "execution_count": 18,
   "id": "514ee29b",
   "metadata": {},
   "outputs": [],
   "source": [
    "df1.to_csv('./data2/sample_data.csv', index=False)"
   ]
  },
  {
   "cell_type": "code",
   "execution_count": null,
   "id": "645450ee",
   "metadata": {},
   "outputs": [],
   "source": [
    "# df2 저장하기\n",
    "# 저장위치 : data2 폴더\n",
    "# 저장파일명 : sample_data.xlsx"
   ]
  },
  {
   "cell_type": "code",
   "execution_count": 19,
   "id": "d40f93c5",
   "metadata": {},
   "outputs": [],
   "source": [
    "df2.to_excel('./data2/sample_data.xlsx', index=False)"
   ]
  },
  {
   "cell_type": "code",
   "execution_count": null,
   "id": "dcab1286",
   "metadata": {},
   "outputs": [],
   "source": [
    "# df3 저장하기\n",
    "# 저장위치 : data2 폴더\n",
    "# 저장파일명 : sample_data.json"
   ]
  },
  {
   "cell_type": "code",
   "execution_count": 20,
   "id": "5ffacbd6",
   "metadata": {},
   "outputs": [],
   "source": [
    "df3.to_json('./data2/sample_data.json')"
   ]
  },
  {
   "cell_type": "markdown",
   "id": "b94062d4",
   "metadata": {},
   "source": [
    "# 데이터수집 : OpenAPI 방식"
   ]
  },
  {
   "cell_type": "code",
   "execution_count": 29,
   "id": "5ad5920d",
   "metadata": {},
   "outputs": [
    {
     "name": "stdout",
     "output_type": "stream",
     "text": [
      "b'<?xml version=\"1.0\" encoding=\"UTF-8\" standalone=\"yes\"?><response><header><resultCode>00</resultCode><resultMsg>NORMAL SERVICE.</resultMsg></header><body><items><item><addr>\\xec\\x84\\x9c\\xec\\x9a\\xb8\\xed\\x8a\\xb9\\xeb\\xb3\\x84\\xec\\x8b\\x9c \\xec\\xa4\\x91\\xeb\\x9e\\x91\\xea\\xb5\\xac \\xeb\\xb4\\x89\\xed\\x99\\x94\\xec\\x82\\xb0\\xeb\\xa1\\x9c 217 (\\xec\\x8b\\xa0\\xeb\\x82\\xb4\\xeb\\x8f\\x99, \\xec\\x98\\xa4\\xec\\x83\\x81\\xeb\\xb9\\x8c\\xeb\\x94\\xa9\\xeb\\x82\\xb4)</addr><clCd>81</clCd><clCdNm>\\xec\\x95\\xbd\\xea\\xb5\\xad</clCdNm><distance>29.201392157360951119304450671869946358</distance><emdongNm>\\xec\\x8b\\xa0\\xeb\\x82\\xb4\\xeb\\x8f\\x99</emdongNm><estbDd>20010705</estbDd><postNo>02054</postNo><sgguCd>110019</sgguCd><sgguCdNm>\\xec\\xa4\\x91\\xeb\\x9e\\x91\\xea\\xb5\\xac</sgguCdNm><sidoCd>110000</sidoCd><sidoCdNm>\\xec\\x84\\x9c\\xec\\x9a\\xb8</sidoCdNm><telno>02-3422-2755</telno><XPos>127.0968401</XPos><YPos>37.6077698</YPos><yadmNm>\\xec\\x9c\\xa0\\xec\\x8b\\xac\\xec\\x95\\xbd\\xea\\xb5\\xad</yadmNm><ykiho>JDQ4MTg4MSM1MSMkMSMkNCMkMDMkMzgxOTYxIzIxIyQxIyQ1IyQ5MiQzNjE0ODEjNjEjJDEjJDQjJDgz</ykiho></item><item><addr>\\xec\\x84\\x9c\\xec\\x9a\\xb8\\xed\\x8a\\xb9\\xeb\\xb3\\x84\\xec\\x8b\\x9c \\xec\\xa4\\x91\\xeb\\x9e\\x91\\xea\\xb5\\xac \\xec\\x8b\\xa0\\xeb\\x82\\xb4\\xeb\\xa1\\x9c16\\xea\\xb8\\xb8 17 1\\xec\\xb8\\xb5 (\\xec\\x8b\\xa0\\xeb\\x82\\xb4\\xeb\\x8f\\x99)</addr><clCd>81</clCd><clCdNm>\\xec\\x95\\xbd\\xea\\xb5\\xad</clCdNm><distance>733.38706231992230632946963748920961434</distance><estbDd>20110304</estbDd><postNo>02053</postNo><sgguCd>110019</sgguCd><sgguCdNm>\\xec\\xa4\\x91\\xeb\\x9e\\x91\\xea\\xb5\\xac</sgguCdNm><sidoCd>110000</sidoCd><sidoCdNm>\\xec\\x84\\x9c\\xec\\x9a\\xb8</sidoCdNm><telno>3423-0808</telno><XPos>127.0972088</XPos><YPos>37.6142413</YPos><yadmNm>\\xec\\x84\\x9c\\xec\\x9a\\xb8\\xeb\\x8f\\x99\\xec\\x82\\xb0\\xec\\x95\\xbd\\xea\\xb5\\xad</yadmNm><ykiho>JDQ4MTg4MSM1MSMkMSMkNCMkMDMkMzgxMTkxIzMxIyQxIyQzIyQ2MiQzNjEwMDIjNDEjJDEjJDQjJDgz</ykiho></item><item><addr>\\xec\\x84\\x9c\\xec\\x9a\\xb8\\xed\\x8a\\xb9\\xeb\\xb3\\x84\\xec\\x8b\\x9c \\xec\\xa4\\x91\\xeb\\x9e\\x91\\xea\\xb5\\xac \\xec\\x8b\\xa0\\xeb\\x82\\xb4\\xeb\\xa1\\x9c 201 1\\xec\\xb8\\xb5 (\\xec\\x8b\\xa0\\xeb\\x82\\xb4\\xeb\\x8f\\x99, \\xed\\x99\\x88\\xed\\x94\\x8c\\xeb\\x9f\\xac\\xec\\x8a\\xa4 \\xec\\x84\\x9c\\xec\\x9a\\xb8 \\xec\\x8b\\xa0\\xeb\\x82\\xb4\\xec\\xa0\\x90)</addr><clCd>81</clCd><clCdNm>\\xec\\x95\\xbd\\xea\\xb5\\xad</clCdNm><distance>941.78817006627520873437248723734518601</distance><emdongNm>\\xec\\x8b\\xa0\\xeb\\x82\\xb4\\xeb\\x8f\\x99</emdongNm><estbDd>20080701</estbDd><postNo>02024</postNo><sgguCd>110019</sgguCd><sgguCdNm>\\xec\\xa4\\x91\\xeb\\x9e\\x91\\xea\\xb5\\xac</sgguCdNm><sidoCd>110000</sidoCd><sidoCdNm>\\xec\\x84\\x9c\\xec\\x9a\\xb8</sidoCdNm><telno>02-3422-6953</telno><XPos>127.0937421</XPos><YPos>37.6158381</YPos><yadmNm>\\xec\\x9b\\x90\\xed\\x94\\x8c\\xeb\\x9f\\xac\\xec\\x8a\\xa4\\xec\\x95\\xbd\\xea\\xb5\\xad</yadmNm><ykiho>JDQ4MTg4MSM1MSMkMSMkNCMkMDMkMzgxNzAyIzMxIyQxIyQzIyQwMyQ0NjE0ODEjODEjJDEjJDYjJDgz</ykiho></item><item><addr>\\xec\\x84\\x9c\\xec\\x9a\\xb8\\xed\\x8a\\xb9\\xeb\\xb3\\x84\\xec\\x8b\\x9c \\xec\\xa4\\x91\\xeb\\x9e\\x91\\xea\\xb5\\xac \\xec\\x8b\\xa0\\xeb\\x82\\xb4\\xeb\\xa1\\x9c 45 \\xed\\x95\\xb4\\xec\\x84\\xb1\\xeb\\xb9\\x8c\\xeb\\x94\\xa9 1\\xec\\xb8\\xb5 (\\xec\\x8b\\xa0\\xeb\\x82\\xb4\\xeb\\x8f\\x99)</addr><clCd>81</clCd><clCdNm>\\xec\\x95\\xbd\\xea\\xb5\\xad</clCdNm><distance>507.90402028621112565076858079772627053</distance><estbDd>20180108</estbDd><postNo>02085</postNo><sgguCd>110019</sgguCd><sgguCdNm>\\xec\\xa4\\x91\\xeb\\x9e\\x91\\xea\\xb5\\xac</sgguCdNm><sidoCd>110000</sidoCd><sidoCdNm>\\xec\\x84\\x9c\\xec\\x9a\\xb8</sidoCdNm><telno>02-2207-3356</telno><XPos>127.0955677</XPos><YPos>37.6031473</YPos><yadmNm>\\xeb\\x8f\\x99\\xeb\\x82\\xa8\\xec\\x95\\xbd\\xea\\xb5\\xad</yadmNm><ykiho>JDQ4MTg4MSM1MSMkMSMkNCMkMDMkNDgxMTkxIzUxIyQyIyQ1IyQwMCQyNjE0ODEjODEjJDEjJDYjJDgz</ykiho></item><item><addr>\\xec\\x84\\x9c\\xec\\x9a\\xb8\\xed\\x8a\\xb9\\xeb\\xb3\\x84\\xec\\x8b\\x9c \\xec\\xa4\\x91\\xeb\\x9e\\x91\\xea\\xb5\\xac \\xeb\\xb4\\x89\\xed\\x99\\x94\\xec\\x82\\xb0\\xeb\\xa1\\x9c 215 1\\xec\\xb8\\xb5 (\\xec\\x8b\\xa0\\xeb\\x82\\xb4\\xeb\\x8f\\x99)</addr><clCd>81</clCd><clCdNm>\\xec\\x95\\xbd\\xea\\xb5\\xad</clCdNm><distance>.5478450769582605437588497466708942455</distance><emdongNm>\\xec\\x8b\\xa0\\xeb\\x82\\xb4\\xeb\\x8f\\x99</emdongNm><estbDd>20001222</estbDd><postNo>02054</postNo><sgguCd>110019</sgguCd><sgguCdNm>\\xec\\xa4\\x91\\xeb\\x9e\\x91\\xea\\xb5\\xac</sgguCdNm><sidoCd>110000</sidoCd><sidoCdNm>\\xec\\x84\\x9c\\xec\\x9a\\xb8</sidoCdNm><telno>02-3422-3097</telno><XPos>127.0965492</XPos><YPos>37.6076585</YPos><yadmNm>\\xec\\x98\\xa8\\xeb\\x88\\x84\\xeb\\xa6\\xac\\xea\\xb1\\xb4\\xea\\xb0\\x95\\xec\\x95\\xbd\\xea\\xb5\\xad</yadmNm><ykiho>JDQ4MTg4MSM1MSMkMSMkNCMkMDMkMzgxOTYxIzExIyQxIyQ3IyQ4MiQyNjEyMjIjODEjJDEjJDYjJDgz</ykiho></item><item><addr>\\xec\\x84\\x9c\\xec\\x9a\\xb8\\xed\\x8a\\xb9\\xeb\\xb3\\x84\\xec\\x8b\\x9c \\xec\\xa4\\x91\\xeb\\x9e\\x91\\xea\\xb5\\xac \\xec\\x8b\\xa0\\xeb\\x82\\xb4\\xeb\\xa1\\x9c 72 \\xec\\x9b\\x90\\xeb\\xb9\\x8c\\xeb\\x94\\xa9 (\\xec\\x8b\\xa0\\xeb\\x82\\xb4\\xeb\\x8f\\x99)</addr><clCd>81</clCd><clCdNm>\\xec\\x95\\xbd\\xea\\xb5\\xad</clCdNm><distance>261.51441138722888357512266642384785299</distance><estbDd>20200914</estbDd><postNo>02069</postNo><sgguCd>110019</sgguCd><sgguCdNm>\\xec\\xa4\\x91\\xeb\\x9e\\x91\\xea\\xb5\\xac</sgguCdNm><sidoCd>110000</sidoCd><sidoCdNm>\\xec\\x84\\x9c\\xec\\x9a\\xb8</sidoCdNm><telno>070-8805-8844</telno><XPos>127.0956685</XPos><YPos>37.6054065</YPos><yadmNm>\\xec\\x98\\xa4\\xec\\x84\\xb1\\xec\\x95\\xbd\\xea\\xb5\\xad</yadmNm><ykiho>JDQ4MTg4MSM1MSMkMSMkNCMkMDMkNDgxNzAyIzExIyQxIyQ3IyQ2MiQzNjE4MzIjODEjJDEjJDIjJDgz</ykiho></item><item><addr>\\xec\\x84\\x9c\\xec\\x9a\\xb8\\xed\\x8a\\xb9\\xeb\\xb3\\x84\\xec\\x8b\\x9c \\xec\\xa4\\x91\\xeb\\x9e\\x91\\xea\\xb5\\xac \\xec\\x8b\\xa0\\xeb\\x82\\xb4\\xeb\\xa1\\x9c16\\xea\\xb8\\xb8 17 1\\xec\\xb8\\xb5 104\\xed\\x98\\xb8 (\\xec\\x8b\\xa0\\xeb\\x82\\xb4\\xeb\\x8f\\x99)</addr><clCd>81</clCd><clCdNm>\\xec\\x95\\xbd\\xea\\xb5\\xad</clCdNm><distance>733.38706231992230632946963748920961434</distance><estbDd>20181203</estbDd><postNo>02053</postNo><sgguCd>110019</sgguCd><sgguCdNm>\\xec\\xa4\\x91\\xeb\\x9e\\x91\\xea\\xb5\\xac</sgguCdNm><sidoCd>110000</sidoCd><sidoCdNm>\\xec\\x84\\x9c\\xec\\x9a\\xb8</sidoCdNm><telno>02-3421-8586</telno><XPos>127.0972088</XPos><YPos>37.6142413</YPos><yadmNm>\\xec\\xb9\\x9c\\xec\\xa0\\x88\\xed\\x95\\x9c \\xeb\\xaa\\x85\\xec\\x84\\xb1\\xec\\x95\\xbd\\xea\\xb5\\xad</yadmNm><ykiho>JDQ4MTg4MSM1MSMkMSMkNCMkMDMkNDgxMTkxIzMxIyQxIyQzIyQ3MiQyNjE4MzIjNTEjJDEjJDIjJDgz</ykiho></item><item><addr>\\xec\\x84\\x9c\\xec\\x9a\\xb8\\xed\\x8a\\xb9\\xeb\\xb3\\x84\\xec\\x8b\\x9c \\xec\\xa4\\x91\\xeb\\x9e\\x91\\xea\\xb5\\xac \\xec\\x8b\\xa0\\xeb\\x82\\xb4\\xeb\\xa1\\x9c 225 266\\xed\\x98\\xb8 (\\xec\\x8b\\xa0\\xeb\\x82\\xb4\\xeb\\x8f\\x99, \\xeb\\x94\\x94\\xec\\x95\\x84\\xeb\\x9c\\xa8\\xea\\xb0\\xa4\\xeb\\x9f\\xac\\xeb\\xa6\\xac)</addr><clCd>81</clCd><clCdNm>\\xec\\x95\\xbd\\xea\\xb5\\xad</clCdNm><distance>1131.6338329719998403441308899339199237</distance><emdongNm>\\xec\\x8b\\xa0\\xeb\\x82\\xb4\\xeb\\x8f\\x99</emdongNm><estbDd>20120907</estbDd><postNo>02024</postNo><sgguCd>110019</sgguCd><sgguCdNm>\\xec\\xa4\\x91\\xeb\\x9e\\x91\\xea\\xb5\\xac</sgguCdNm><sidoCd>110000</sidoCd><sidoCdNm>\\xec\\x84\\x9c\\xec\\x9a\\xb8</sidoCdNm><telno>070-4229-9602</telno><XPos>127.0913608</XPos><YPos>37.6169671</YPos><yadmNm>\\xed\\x95\\x9c\\xec\\x82\\xac\\xeb\\x9e\\x91\\xec\\x95\\xbd\\xea\\xb5\\xad</yadmNm><ykiho>JDQ4MTg4MSM1MSMkMSMkNCMkMDMkNDgxMzUxIzMxIyQxIyQ3IyQ4MiQyNjE4MzIjNjEjJDEjJDQjJDgz</ykiho></item><item><addr>\\xec\\x84\\x9c\\xec\\x9a\\xb8\\xed\\x8a\\xb9\\xeb\\xb3\\x84\\xec\\x8b\\x9c \\xec\\xa4\\x91\\xeb\\x9e\\x91\\xea\\xb5\\xac \\xec\\x8b\\xa0\\xeb\\x82\\xb4\\xeb\\xa1\\x9c 135 \\xec\\x8b\\xa0\\xeb\\x82\\xb49\\xeb\\x8b\\xa8\\xec\\xa7\\x80\\xec\\x95\\x84\\xed\\x8c\\x8c\\xed\\x8a\\xb8 \\xec\\xa0\\x9c\\xec\\x83\\x81\\xea\\xb0\\x801\\xeb\\x8f\\x99 1\\xec\\xb8\\xb5 117\\xed\\x98\\xb8 (\\xec\\x8b\\xa0\\xeb\\x82\\xb4\\xeb\\x8f\\x99)</addr><clCd>81</clCd><clCdNm>\\xec\\x95\\xbd\\xea\\xb5\\xad</clCdNm><distance>419.39698883207604151352086741642204888</distance><estbDd>20190501</estbDd><postNo>02026</postNo><sgguCd>110019</sgguCd><sgguCdNm>\\xec\\xa4\\x91\\xeb\\x9e\\x91\\xea\\xb5\\xac</sgguCdNm><sidoCd>110000</sidoCd><sidoCdNm>\\xec\\x84\\x9c\\xec\\x9a\\xb8</sidoCdNm><telno>02-3421-7582</telno><XPos>127.0958703</XPos><YPos>37.6113953</YPos><yadmNm>\\xea\\xb1\\xb4\\xea\\xb0\\x95\\xec\\x95\\xbd\\xea\\xb5\\xad</yadmNm><ykiho>JDQ4MTg4MSM1MSMkMSMkNCMkMDMkNDgxMTkxIzQxIyQxIyQ3IyQ4OSQyNjEyMjIjODEjJDEjJDIjJDgz</ykiho></item><item><addr>\\xec\\x84\\x9c\\xec\\x9a\\xb8\\xed\\x8a\\xb9\\xeb\\xb3\\x84\\xec\\x8b\\x9c \\xec\\xa4\\x91\\xeb\\x9e\\x91\\xea\\xb5\\xac \\xec\\x8b\\xa0\\xeb\\x82\\xb4\\xeb\\xa1\\x9c16\\xea\\xb8\\xb8 17 105\\xed\\x98\\xb8 (\\xec\\x8b\\xa0\\xeb\\x82\\xb4\\xeb\\x8f\\x99)</addr><clCd>81</clCd><clCdNm>\\xec\\x95\\xbd\\xea\\xb5\\xad</clCdNm><distance>733.38706231992230632946963748920961434</distance><estbDd>20130122</estbDd><postNo>02053</postNo><sgguCd>110019</sgguCd><sgguCdNm>\\xec\\xa4\\x91\\xeb\\x9e\\x91\\xea\\xb5\\xac</sgguCdNm><sidoCd>110000</sidoCd><sidoCdNm>\\xec\\x84\\x9c\\xec\\x9a\\xb8</sidoCdNm><telno>3421-4200</telno><XPos>127.0972088</XPos><YPos>37.6142413</YPos><yadmNm>\\xeb\\x8c\\x80\\xed\\x95\\x9c\\xec\\x95\\xbd\\xea\\xb5\\xad</yadmNm><ykiho>JDQ4MTg4MSM1MSMkMSMkNCMkMDMkMzgxNzAyIzUxIyQxIyQxIyQ4OSQzNjEwMDIjNTEjJDEjJDIjJDgz</ykiho></item></items><numOfRows>10</numOfRows><pageNo>1</pageNo><totalCount>25</totalCount></body></response>'\n"
     ]
    }
   ],
   "source": [
    "# 건강보험심사평가원_약국정보서비스\n",
    "\n",
    "import requests\n",
    "\n",
    "apikey = '인증키'\n",
    "\n",
    "pageNo    = 1\n",
    "numOfRows = 10\n",
    "sidoCd    = 110000\n",
    "sgguCd    = 110019\n",
    "emdongNm  = '신내동'\n",
    "yadmNm    = '온누리'\n",
    "xPos      = 127.0965441345503\n",
    "yPos      = 37.60765568913871\n",
    "radius    = 3000\n",
    "\n",
    "api = '''http://apis.data.go.kr/B551182/pharmacyInfoService/getParmacyBasisList?\n",
    "pageNo={no}&numOfRows={row}&sidoCd={sido}&sgguCd={sigu}&emdongNm={dong}&\n",
    "yadmNm={yanm}&xPos={x}&yPos={y}&radius={r}&ServiceKey={key}'''\n",
    "\n",
    "url = api.format(no   = pageNo,\n",
    "                 row  = numOfRows,\n",
    "                 sido = sidoCd,\n",
    "                 sigu = sgguCd,\n",
    "                 dong = emdongNm,\n",
    "                 yanm = yadmNm,\n",
    "                 x    = xPos,\n",
    "                 y    = yPos,\n",
    "                 r    = radius,\n",
    "                 key  = apikey)\n",
    "\n",
    "\n",
    "response = requests.get(url)\n",
    "print(response.content)"
   ]
  },
  {
   "cell_type": "code",
   "execution_count": 31,
   "id": "2891b00f",
   "metadata": {},
   "outputs": [],
   "source": [
    "from bs4 import BeautifulSoup\n",
    "import requests"
   ]
  },
  {
   "cell_type": "code",
   "execution_count": 62,
   "id": "e0afdb7a",
   "metadata": {
    "scrolled": true
   },
   "outputs": [
    {
     "data": {
      "text/plain": [
       "<?xml version=\"1.0\" encoding=\"UTF-8\" standalone=\"yes\"?><response><header><resultcode>00</resultcode><resultmsg>NORMAL SERVICE.</resultmsg></header><body><items><item><addr>서울특별시 중랑구 봉화산로 217 (신내동, 오상빌딩내)</addr><clcd>81</clcd><clcdnm>약국</clcdnm><distance>29.201392157360951119304450671869946358</distance><emdongnm>신내동</emdongnm><estbdd>20010705</estbdd><postno>02054</postno><sggucd>110019</sggucd><sggucdnm>중랑구</sggucdnm><sidocd>110000</sidocd><sidocdnm>서울</sidocdnm><telno>02-3422-2755</telno><xpos>127.0968401</xpos><ypos>37.6077698</ypos><yadmnm>유심약국</yadmnm><ykiho>JDQ4MTg4MSM1MSMkMSMkNCMkMDMkMzgxOTYxIzIxIyQxIyQ1IyQ5MiQzNjE0ODEjNjEjJDEjJDQjJDgz</ykiho></item><item><addr>서울특별시 중랑구 신내로16길 17 1층 (신내동)</addr><clcd>81</clcd><clcdnm>약국</clcdnm><distance>733.38706231992230632946963748920961434</distance><estbdd>20110304</estbdd><postno>02053</postno><sggucd>110019</sggucd><sggucdnm>중랑구</sggucdnm><sidocd>110000</sidocd><sidocdnm>서울</sidocdnm><telno>3423-0808</telno><xpos>127.0972088</xpos><ypos>37.6142413</ypos><yadmnm>서울동산약국</yadmnm><ykiho>JDQ4MTg4MSM1MSMkMSMkNCMkMDMkMzgxMTkxIzMxIyQxIyQzIyQ2MiQzNjEwMDIjNDEjJDEjJDQjJDgz</ykiho></item><item><addr>서울특별시 중랑구 신내로 201 1층 (신내동, 홈플러스 서울 신내점)</addr><clcd>81</clcd><clcdnm>약국</clcdnm><distance>941.78817006627520873437248723734518601</distance><emdongnm>신내동</emdongnm><estbdd>20080701</estbdd><postno>02024</postno><sggucd>110019</sggucd><sggucdnm>중랑구</sggucdnm><sidocd>110000</sidocd><sidocdnm>서울</sidocdnm><telno>02-3422-6953</telno><xpos>127.0937421</xpos><ypos>37.6158381</ypos><yadmnm>원플러스약국</yadmnm><ykiho>JDQ4MTg4MSM1MSMkMSMkNCMkMDMkMzgxNzAyIzMxIyQxIyQzIyQwMyQ0NjE0ODEjODEjJDEjJDYjJDgz</ykiho></item><item><addr>서울특별시 중랑구 신내로 45 해성빌딩 1층 (신내동)</addr><clcd>81</clcd><clcdnm>약국</clcdnm><distance>507.90402028621112565076858079772627053</distance><estbdd>20180108</estbdd><postno>02085</postno><sggucd>110019</sggucd><sggucdnm>중랑구</sggucdnm><sidocd>110000</sidocd><sidocdnm>서울</sidocdnm><telno>02-2207-3356</telno><xpos>127.0955677</xpos><ypos>37.6031473</ypos><yadmnm>동남약국</yadmnm><ykiho>JDQ4MTg4MSM1MSMkMSMkNCMkMDMkNDgxMTkxIzUxIyQyIyQ1IyQwMCQyNjE0ODEjODEjJDEjJDYjJDgz</ykiho></item><item><addr>서울특별시 중랑구 봉화산로 215 1층 (신내동)</addr><clcd>81</clcd><clcdnm>약국</clcdnm><distance>.5478450769582605437588497466708942455</distance><emdongnm>신내동</emdongnm><estbdd>20001222</estbdd><postno>02054</postno><sggucd>110019</sggucd><sggucdnm>중랑구</sggucdnm><sidocd>110000</sidocd><sidocdnm>서울</sidocdnm><telno>02-3422-3097</telno><xpos>127.0965492</xpos><ypos>37.6076585</ypos><yadmnm>온누리건강약국</yadmnm><ykiho>JDQ4MTg4MSM1MSMkMSMkNCMkMDMkMzgxOTYxIzExIyQxIyQ3IyQ4MiQyNjEyMjIjODEjJDEjJDYjJDgz</ykiho></item><item><addr>서울특별시 중랑구 신내로 72 원빌딩 (신내동)</addr><clcd>81</clcd><clcdnm>약국</clcdnm><distance>261.51441138722888357512266642384785299</distance><estbdd>20200914</estbdd><postno>02069</postno><sggucd>110019</sggucd><sggucdnm>중랑구</sggucdnm><sidocd>110000</sidocd><sidocdnm>서울</sidocdnm><telno>070-8805-8844</telno><xpos>127.0956685</xpos><ypos>37.6054065</ypos><yadmnm>오성약국</yadmnm><ykiho>JDQ4MTg4MSM1MSMkMSMkNCMkMDMkNDgxNzAyIzExIyQxIyQ3IyQ2MiQzNjE4MzIjODEjJDEjJDIjJDgz</ykiho></item><item><addr>서울특별시 중랑구 신내로16길 17 1층 104호 (신내동)</addr><clcd>81</clcd><clcdnm>약국</clcdnm><distance>733.38706231992230632946963748920961434</distance><estbdd>20181203</estbdd><postno>02053</postno><sggucd>110019</sggucd><sggucdnm>중랑구</sggucdnm><sidocd>110000</sidocd><sidocdnm>서울</sidocdnm><telno>02-3421-8586</telno><xpos>127.0972088</xpos><ypos>37.6142413</ypos><yadmnm>친절한 명성약국</yadmnm><ykiho>JDQ4MTg4MSM1MSMkMSMkNCMkMDMkNDgxMTkxIzMxIyQxIyQzIyQ3MiQyNjE4MzIjNTEjJDEjJDIjJDgz</ykiho></item><item><addr>서울특별시 중랑구 신내로 225 266호 (신내동, 디아뜨갤러리)</addr><clcd>81</clcd><clcdnm>약국</clcdnm><distance>1131.6338329719998403441308899339199237</distance><emdongnm>신내동</emdongnm><estbdd>20120907</estbdd><postno>02024</postno><sggucd>110019</sggucd><sggucdnm>중랑구</sggucdnm><sidocd>110000</sidocd><sidocdnm>서울</sidocdnm><telno>070-4229-9602</telno><xpos>127.0913608</xpos><ypos>37.6169671</ypos><yadmnm>한사랑약국</yadmnm><ykiho>JDQ4MTg4MSM1MSMkMSMkNCMkMDMkNDgxMzUxIzMxIyQxIyQ3IyQ4MiQyNjE4MzIjNjEjJDEjJDQjJDgz</ykiho></item><item><addr>서울특별시 중랑구 신내로 135 신내9단지아파트 제상가1동 1층 117호 (신내동)</addr><clcd>81</clcd><clcdnm>약국</clcdnm><distance>419.39698883207604151352086741642204888</distance><estbdd>20190501</estbdd><postno>02026</postno><sggucd>110019</sggucd><sggucdnm>중랑구</sggucdnm><sidocd>110000</sidocd><sidocdnm>서울</sidocdnm><telno>02-3421-7582</telno><xpos>127.0958703</xpos><ypos>37.6113953</ypos><yadmnm>건강약국</yadmnm><ykiho>JDQ4MTg4MSM1MSMkMSMkNCMkMDMkNDgxMTkxIzQxIyQxIyQ3IyQ4OSQyNjEyMjIjODEjJDEjJDIjJDgz</ykiho></item><item><addr>서울특별시 중랑구 신내로16길 17 105호 (신내동)</addr><clcd>81</clcd><clcdnm>약국</clcdnm><distance>733.38706231992230632946963748920961434</distance><estbdd>20130122</estbdd><postno>02053</postno><sggucd>110019</sggucd><sggucdnm>중랑구</sggucdnm><sidocd>110000</sidocd><sidocdnm>서울</sidocdnm><telno>3421-4200</telno><xpos>127.0972088</xpos><ypos>37.6142413</ypos><yadmnm>대한약국</yadmnm><ykiho>JDQ4MTg4MSM1MSMkMSMkNCMkMDMkMzgxNzAyIzUxIyQxIyQxIyQ4OSQzNjEwMDIjNTEjJDEjJDIjJDgz</ykiho></item></items><numofrows>10</numofrows><pageno>1</pageno><totalcount>25</totalcount></body></response>"
      ]
     },
     "execution_count": 62,
     "metadata": {},
     "output_type": "execute_result"
    }
   ],
   "source": [
    "re = response.text\n",
    "soup = BeautifulSoup(re, 'html.parser')\n",
    "soup"
   ]
  },
  {
   "cell_type": "code",
   "execution_count": 63,
   "id": "5157055c",
   "metadata": {},
   "outputs": [
    {
     "data": {
      "text/plain": [
       "[<addr>서울특별시 중랑구 봉화산로 217 (신내동, 오상빌딩내)</addr>,\n",
       " <addr>서울특별시 중랑구 신내로16길 17 1층 (신내동)</addr>,\n",
       " <addr>서울특별시 중랑구 신내로 201 1층 (신내동, 홈플러스 서울 신내점)</addr>,\n",
       " <addr>서울특별시 중랑구 신내로 45 해성빌딩 1층 (신내동)</addr>,\n",
       " <addr>서울특별시 중랑구 봉화산로 215 1층 (신내동)</addr>,\n",
       " <addr>서울특별시 중랑구 신내로 72 원빌딩 (신내동)</addr>,\n",
       " <addr>서울특별시 중랑구 신내로16길 17 1층 104호 (신내동)</addr>,\n",
       " <addr>서울특별시 중랑구 신내로 225 266호 (신내동, 디아뜨갤러리)</addr>,\n",
       " <addr>서울특별시 중랑구 신내로 135 신내9단지아파트 제상가1동 1층 117호 (신내동)</addr>,\n",
       " <addr>서울특별시 중랑구 신내로16길 17 105호 (신내동)</addr>]"
      ]
     },
     "execution_count": 63,
     "metadata": {},
     "output_type": "execute_result"
    }
   ],
   "source": [
    "# 주소\n",
    "addr_list = soup.find_all('addr')\n",
    "addr_list"
   ]
  },
  {
   "cell_type": "code",
   "execution_count": 55,
   "id": "803f2da4",
   "metadata": {},
   "outputs": [
    {
     "data": {
      "text/plain": [
       "[<telno>02-3422-2755</telno>,\n",
       " <telno>3423-0808</telno>,\n",
       " <telno>02-3422-6953</telno>,\n",
       " <telno>02-2207-3356</telno>,\n",
       " <telno>02-3422-3097</telno>,\n",
       " <telno>070-8805-8844</telno>,\n",
       " <telno>02-3421-8586</telno>,\n",
       " <telno>070-4229-9602</telno>,\n",
       " <telno>02-3421-7582</telno>,\n",
       " <telno>3421-4200</telno>]"
      ]
     },
     "execution_count": 55,
     "metadata": {},
     "output_type": "execute_result"
    }
   ],
   "source": [
    "# 전화번호\n",
    "tel_list = soup.find_all('telno')\n",
    "tel_list"
   ]
  },
  {
   "cell_type": "code",
   "execution_count": 65,
   "id": "3a0799ba",
   "metadata": {
    "scrolled": true
   },
   "outputs": [
    {
     "data": {
      "text/plain": [
       "[<yadmnm>유심약국</yadmnm>,\n",
       " <yadmnm>서울동산약국</yadmnm>,\n",
       " <yadmnm>원플러스약국</yadmnm>,\n",
       " <yadmnm>동남약국</yadmnm>,\n",
       " <yadmnm>온누리건강약국</yadmnm>,\n",
       " <yadmnm>오성약국</yadmnm>,\n",
       " <yadmnm>친절한 명성약국</yadmnm>,\n",
       " <yadmnm>한사랑약국</yadmnm>,\n",
       " <yadmnm>건강약국</yadmnm>,\n",
       " <yadmnm>대한약국</yadmnm>]"
      ]
     },
     "execution_count": 65,
     "metadata": {},
     "output_type": "execute_result"
    }
   ],
   "source": [
    "# 약국 이름\n",
    "name_list = soup.find_all('yadmnm')\n",
    "name_list"
   ]
  },
  {
   "cell_type": "code",
   "execution_count": 66,
   "id": "e0cef983",
   "metadata": {},
   "outputs": [
    {
     "data": {
      "text/plain": [
       "[<sidocdnm>서울</sidocdnm>,\n",
       " <sidocdnm>서울</sidocdnm>,\n",
       " <sidocdnm>서울</sidocdnm>,\n",
       " <sidocdnm>서울</sidocdnm>,\n",
       " <sidocdnm>서울</sidocdnm>,\n",
       " <sidocdnm>서울</sidocdnm>,\n",
       " <sidocdnm>서울</sidocdnm>,\n",
       " <sidocdnm>서울</sidocdnm>,\n",
       " <sidocdnm>서울</sidocdnm>,\n",
       " <sidocdnm>서울</sidocdnm>]"
      ]
     },
     "execution_count": 66,
     "metadata": {},
     "output_type": "execute_result"
    }
   ],
   "source": [
    "# 시도명\n",
    "sido_list = soup.find_all('sidocdnm')\n",
    "sido_list"
   ]
  },
  {
   "cell_type": "code",
   "execution_count": 50,
   "id": "4fe80559",
   "metadata": {},
   "outputs": [
    {
     "name": "stdout",
     "output_type": "stream",
     "text": [
      "약국주소[ 0 ] : 서울특별시 중랑구 봉화산로 217 (신내동, 오상빌딩내)\n",
      "전화번호[ 0 ] : 02-3422-2755\n",
      "약국주소[ 1 ] : 서울특별시 중랑구 신내로16길 17 1층 (신내동)\n",
      "전화번호[ 1 ] : 3423-0808\n",
      "약국주소[ 2 ] : 서울특별시 중랑구 신내로 201 1층 (신내동, 홈플러스 서울 신내점)\n",
      "전화번호[ 2 ] : 02-3422-6953\n",
      "약국주소[ 3 ] : 서울특별시 중랑구 신내로 45 해성빌딩 1층 (신내동)\n",
      "전화번호[ 3 ] : 02-2207-3356\n",
      "약국주소[ 4 ] : 서울특별시 중랑구 봉화산로 215 1층 (신내동)\n",
      "전화번호[ 4 ] : 02-3422-3097\n",
      "약국주소[ 5 ] : 서울특별시 중랑구 신내로 72 원빌딩 (신내동)\n",
      "전화번호[ 5 ] : 070-8805-8844\n",
      "약국주소[ 6 ] : 서울특별시 중랑구 신내로16길 17 1층 104호 (신내동)\n",
      "전화번호[ 6 ] : 02-3421-8586\n",
      "약국주소[ 7 ] : 서울특별시 중랑구 신내로 225 266호 (신내동, 디아뜨갤러리)\n",
      "전화번호[ 7 ] : 070-4229-9602\n",
      "약국주소[ 8 ] : 서울특별시 중랑구 신내로 135 신내9단지아파트 제상가1동 1층 117호 (신내동)\n",
      "전화번호[ 8 ] : 02-3421-7582\n",
      "약국주소[ 9 ] : 서울특별시 중랑구 신내로16길 17 105호 (신내동)\n",
      "전화번호[ 9 ] : 3421-4200\n"
     ]
    }
   ],
   "source": [
    "for i in range(len(addr_list)):\n",
    "    print('약국주소[', i , '] :', addr_list[i].text)\n",
    "    print('전화번호[', i , '] :', tel_list[i].text)"
   ]
  },
  {
   "cell_type": "code",
   "execution_count": 56,
   "id": "0d9c2c7e",
   "metadata": {},
   "outputs": [],
   "source": [
    "# DataFrame으로 저장하기 위한 선행 작업....\n",
    "\n",
    "# 약국이름, 시도명, 주소, 전화번호에 대한 text 값만 추출하여\n",
    "# 각각의 리스트에 담기...변수명은 아래 처럼....\n",
    "# yad_txt_list, sido_txt_list, addr_txt_list, telno_txt_list"
   ]
  },
  {
   "cell_type": "code",
   "execution_count": 59,
   "id": "dc0aa33e",
   "metadata": {},
   "outputs": [],
   "source": [
    "yad_txt_list = []\n",
    "sido_txt_list = []\n",
    "addr_txt_list = []\n",
    "telno_txt_list = []"
   ]
  },
  {
   "cell_type": "code",
   "execution_count": 67,
   "id": "bc5c68e7",
   "metadata": {},
   "outputs": [],
   "source": [
    "for i in range(len(addr_list)):\n",
    "    yad_txt_list.append(name_list[i].text)\n",
    "    sido_txt_list.append(sido_list[i].text)\n",
    "    addr_txt_list.append(addr_list[i].text)\n",
    "    telno_txt_list.append(tel_list[i].text)"
   ]
  },
  {
   "cell_type": "code",
   "execution_count": 69,
   "id": "977f17fc",
   "metadata": {
    "scrolled": true
   },
   "outputs": [
    {
     "name": "stdout",
     "output_type": "stream",
     "text": [
      "['유심약국', '서울동산약국', '원플러스약국', '동남약국', '온누리건강약국', '오성약국', '친절한 명성약국', '한사랑약국', '건강약국', '대한약국']\n"
     ]
    }
   ],
   "source": [
    "print(yad_txt_list)"
   ]
  },
  {
   "cell_type": "code",
   "execution_count": 70,
   "id": "b9c2b6e7",
   "metadata": {},
   "outputs": [
    {
     "name": "stdout",
     "output_type": "stream",
     "text": [
      "['서울', '서울', '서울', '서울', '서울', '서울', '서울', '서울', '서울', '서울']\n"
     ]
    }
   ],
   "source": [
    "print(sido_txt_list)"
   ]
  },
  {
   "cell_type": "code",
   "execution_count": 71,
   "id": "d31f4ba0",
   "metadata": {},
   "outputs": [
    {
     "name": "stdout",
     "output_type": "stream",
     "text": [
      "['서울특별시 중랑구 봉화산로 217 (신내동, 오상빌딩내)', '서울특별시 중랑구 신내로16길 17 1층 (신내동)', '서울특별시 중랑구 신내로 201 1층 (신내동, 홈플러스 서울 신내점)', '서울특별시 중랑구 신내로 45 해성빌딩 1층 (신내동)', '서울특별시 중랑구 봉화산로 215 1층 (신내동)', '서울특별시 중랑구 신내로 72 원빌딩 (신내동)', '서울특별시 중랑구 신내로16길 17 1층 104호 (신내동)', '서울특별시 중랑구 신내로 225 266호 (신내동, 디아뜨갤러리)', '서울특별시 중랑구 신내로 135 신내9단지아파트 제상가1동 1층 117호 (신내동)', '서울특별시 중랑구 신내로16길 17 105호 (신내동)']\n"
     ]
    }
   ],
   "source": [
    "print(addr_txt_list)"
   ]
  },
  {
   "cell_type": "code",
   "execution_count": 72,
   "id": "b2c444b9",
   "metadata": {},
   "outputs": [
    {
     "name": "stdout",
     "output_type": "stream",
     "text": [
      "['02-3422-2755', '3423-0808', '02-3422-6953', '02-2207-3356', '02-3422-3097', '070-8805-8844', '02-3421-8586', '070-4229-9602', '02-3421-7582', '3421-4200']\n"
     ]
    }
   ],
   "source": [
    "print(telno_txt_list)"
   ]
  },
  {
   "cell_type": "code",
   "execution_count": 76,
   "id": "a826e2b4",
   "metadata": {},
   "outputs": [
    {
     "data": {
      "text/html": [
       "<div>\n",
       "<style scoped>\n",
       "    .dataframe tbody tr th:only-of-type {\n",
       "        vertical-align: middle;\n",
       "    }\n",
       "\n",
       "    .dataframe tbody tr th {\n",
       "        vertical-align: top;\n",
       "    }\n",
       "\n",
       "    .dataframe thead th {\n",
       "        text-align: right;\n",
       "    }\n",
       "</style>\n",
       "<table border=\"1\" class=\"dataframe\">\n",
       "  <thead>\n",
       "    <tr style=\"text-align: right;\">\n",
       "      <th></th>\n",
       "      <th>약국이름</th>\n",
       "      <th>시도명</th>\n",
       "      <th>주소</th>\n",
       "      <th>전화번호</th>\n",
       "    </tr>\n",
       "  </thead>\n",
       "  <tbody>\n",
       "    <tr>\n",
       "      <th>0</th>\n",
       "      <td>유심약국</td>\n",
       "      <td>서울</td>\n",
       "      <td>서울특별시 중랑구 봉화산로 217 (신내동, 오상빌딩내)</td>\n",
       "      <td>02-3422-2755</td>\n",
       "    </tr>\n",
       "    <tr>\n",
       "      <th>1</th>\n",
       "      <td>서울동산약국</td>\n",
       "      <td>서울</td>\n",
       "      <td>서울특별시 중랑구 신내로16길 17 1층 (신내동)</td>\n",
       "      <td>3423-0808</td>\n",
       "    </tr>\n",
       "    <tr>\n",
       "      <th>2</th>\n",
       "      <td>원플러스약국</td>\n",
       "      <td>서울</td>\n",
       "      <td>서울특별시 중랑구 신내로 201 1층 (신내동, 홈플러스 서울 신내점)</td>\n",
       "      <td>02-3422-6953</td>\n",
       "    </tr>\n",
       "    <tr>\n",
       "      <th>3</th>\n",
       "      <td>동남약국</td>\n",
       "      <td>서울</td>\n",
       "      <td>서울특별시 중랑구 신내로 45 해성빌딩 1층 (신내동)</td>\n",
       "      <td>02-2207-3356</td>\n",
       "    </tr>\n",
       "    <tr>\n",
       "      <th>4</th>\n",
       "      <td>온누리건강약국</td>\n",
       "      <td>서울</td>\n",
       "      <td>서울특별시 중랑구 봉화산로 215 1층 (신내동)</td>\n",
       "      <td>02-3422-3097</td>\n",
       "    </tr>\n",
       "    <tr>\n",
       "      <th>5</th>\n",
       "      <td>오성약국</td>\n",
       "      <td>서울</td>\n",
       "      <td>서울특별시 중랑구 신내로 72 원빌딩 (신내동)</td>\n",
       "      <td>070-8805-8844</td>\n",
       "    </tr>\n",
       "    <tr>\n",
       "      <th>6</th>\n",
       "      <td>친절한 명성약국</td>\n",
       "      <td>서울</td>\n",
       "      <td>서울특별시 중랑구 신내로16길 17 1층 104호 (신내동)</td>\n",
       "      <td>02-3421-8586</td>\n",
       "    </tr>\n",
       "    <tr>\n",
       "      <th>7</th>\n",
       "      <td>한사랑약국</td>\n",
       "      <td>서울</td>\n",
       "      <td>서울특별시 중랑구 신내로 225 266호 (신내동, 디아뜨갤러리)</td>\n",
       "      <td>070-4229-9602</td>\n",
       "    </tr>\n",
       "    <tr>\n",
       "      <th>8</th>\n",
       "      <td>건강약국</td>\n",
       "      <td>서울</td>\n",
       "      <td>서울특별시 중랑구 신내로 135 신내9단지아파트 제상가1동 1층 117호 (신내동)</td>\n",
       "      <td>02-3421-7582</td>\n",
       "    </tr>\n",
       "    <tr>\n",
       "      <th>9</th>\n",
       "      <td>대한약국</td>\n",
       "      <td>서울</td>\n",
       "      <td>서울특별시 중랑구 신내로16길 17 105호 (신내동)</td>\n",
       "      <td>3421-4200</td>\n",
       "    </tr>\n",
       "  </tbody>\n",
       "</table>\n",
       "</div>"
      ],
      "text/plain": [
       "       약국이름 시도명                                              주소           전화번호\n",
       "0      유심약국  서울                 서울특별시 중랑구 봉화산로 217 (신내동, 오상빌딩내)   02-3422-2755\n",
       "1    서울동산약국  서울                    서울특별시 중랑구 신내로16길 17 1층 (신내동)      3423-0808\n",
       "2    원플러스약국  서울         서울특별시 중랑구 신내로 201 1층 (신내동, 홈플러스 서울 신내점)   02-3422-6953\n",
       "3      동남약국  서울                  서울특별시 중랑구 신내로 45 해성빌딩 1층 (신내동)   02-2207-3356\n",
       "4   온누리건강약국  서울                     서울특별시 중랑구 봉화산로 215 1층 (신내동)   02-3422-3097\n",
       "5      오성약국  서울                      서울특별시 중랑구 신내로 72 원빌딩 (신내동)  070-8805-8844\n",
       "6  친절한 명성약국  서울               서울특별시 중랑구 신내로16길 17 1층 104호 (신내동)   02-3421-8586\n",
       "7     한사랑약국  서울            서울특별시 중랑구 신내로 225 266호 (신내동, 디아뜨갤러리)  070-4229-9602\n",
       "8      건강약국  서울  서울특별시 중랑구 신내로 135 신내9단지아파트 제상가1동 1층 117호 (신내동)   02-3421-7582\n",
       "9      대한약국  서울                  서울특별시 중랑구 신내로16길 17 105호 (신내동)      3421-4200"
      ]
     },
     "execution_count": 76,
     "metadata": {},
     "output_type": "execute_result"
    }
   ],
   "source": [
    "df_temp = pd.DataFrame({'약국이름' : yad_txt_list, \n",
    "                        '시도명' : sido_txt_list, \n",
    "                        '주소' : addr_txt_list, \n",
    "                        '전화번호' : telno_txt_list})\n",
    "df_temp"
   ]
  },
  {
   "cell_type": "code",
   "execution_count": null,
   "id": "183785e1",
   "metadata": {},
   "outputs": [],
   "source": [
    "# 아래와 같이 각각의 값을들 2차원 리스트 형태로 저장해 주세요..\n",
    "# 변수명 : list_all\n",
    "# [[유심약국, 서울, 서울특별시 중랑구 봉화산로 217 (신내동, 오상빌딩내), 02-3422-2755]\n",
    "# [서울동산약국, 서울, 서울특별시 중랑구 신내로16길 17 1층 (신내동), 3423-0808]]"
   ]
  },
  {
   "cell_type": "code",
   "execution_count": 98,
   "id": "3be4caaa",
   "metadata": {},
   "outputs": [],
   "source": [
    "list_all = []"
   ]
  },
  {
   "cell_type": "code",
   "execution_count": 99,
   "id": "15253cc2",
   "metadata": {},
   "outputs": [],
   "source": [
    "for i in range(len(addr_list)):\n",
    "    list_all.append([name_list[i].text, sido_list[i].text, addr_list[i].text, tel_list[i].text])"
   ]
  },
  {
   "cell_type": "code",
   "execution_count": 103,
   "id": "c77ed2fe",
   "metadata": {},
   "outputs": [
    {
     "data": {
      "text/html": [
       "<div>\n",
       "<style scoped>\n",
       "    .dataframe tbody tr th:only-of-type {\n",
       "        vertical-align: middle;\n",
       "    }\n",
       "\n",
       "    .dataframe tbody tr th {\n",
       "        vertical-align: top;\n",
       "    }\n",
       "\n",
       "    .dataframe thead th {\n",
       "        text-align: right;\n",
       "    }\n",
       "</style>\n",
       "<table border=\"1\" class=\"dataframe\">\n",
       "  <thead>\n",
       "    <tr style=\"text-align: right;\">\n",
       "      <th></th>\n",
       "      <th>약국이름</th>\n",
       "      <th>시도명</th>\n",
       "      <th>주소</th>\n",
       "      <th>전화번호</th>\n",
       "    </tr>\n",
       "  </thead>\n",
       "  <tbody>\n",
       "    <tr>\n",
       "      <th>0</th>\n",
       "      <td>유심약국</td>\n",
       "      <td>서울</td>\n",
       "      <td>서울특별시 중랑구 봉화산로 217 (신내동, 오상빌딩내)</td>\n",
       "      <td>02-3422-2755</td>\n",
       "    </tr>\n",
       "    <tr>\n",
       "      <th>1</th>\n",
       "      <td>서울동산약국</td>\n",
       "      <td>서울</td>\n",
       "      <td>서울특별시 중랑구 신내로16길 17 1층 (신내동)</td>\n",
       "      <td>3423-0808</td>\n",
       "    </tr>\n",
       "    <tr>\n",
       "      <th>2</th>\n",
       "      <td>원플러스약국</td>\n",
       "      <td>서울</td>\n",
       "      <td>서울특별시 중랑구 신내로 201 1층 (신내동, 홈플러스 서울 신내점)</td>\n",
       "      <td>02-3422-6953</td>\n",
       "    </tr>\n",
       "    <tr>\n",
       "      <th>3</th>\n",
       "      <td>동남약국</td>\n",
       "      <td>서울</td>\n",
       "      <td>서울특별시 중랑구 신내로 45 해성빌딩 1층 (신내동)</td>\n",
       "      <td>02-2207-3356</td>\n",
       "    </tr>\n",
       "    <tr>\n",
       "      <th>4</th>\n",
       "      <td>온누리건강약국</td>\n",
       "      <td>서울</td>\n",
       "      <td>서울특별시 중랑구 봉화산로 215 1층 (신내동)</td>\n",
       "      <td>02-3422-3097</td>\n",
       "    </tr>\n",
       "    <tr>\n",
       "      <th>5</th>\n",
       "      <td>오성약국</td>\n",
       "      <td>서울</td>\n",
       "      <td>서울특별시 중랑구 신내로 72 원빌딩 (신내동)</td>\n",
       "      <td>070-8805-8844</td>\n",
       "    </tr>\n",
       "    <tr>\n",
       "      <th>6</th>\n",
       "      <td>친절한 명성약국</td>\n",
       "      <td>서울</td>\n",
       "      <td>서울특별시 중랑구 신내로16길 17 1층 104호 (신내동)</td>\n",
       "      <td>02-3421-8586</td>\n",
       "    </tr>\n",
       "    <tr>\n",
       "      <th>7</th>\n",
       "      <td>한사랑약국</td>\n",
       "      <td>서울</td>\n",
       "      <td>서울특별시 중랑구 신내로 225 266호 (신내동, 디아뜨갤러리)</td>\n",
       "      <td>070-4229-9602</td>\n",
       "    </tr>\n",
       "    <tr>\n",
       "      <th>8</th>\n",
       "      <td>건강약국</td>\n",
       "      <td>서울</td>\n",
       "      <td>서울특별시 중랑구 신내로 135 신내9단지아파트 제상가1동 1층 117호 (신내동)</td>\n",
       "      <td>02-3421-7582</td>\n",
       "    </tr>\n",
       "    <tr>\n",
       "      <th>9</th>\n",
       "      <td>대한약국</td>\n",
       "      <td>서울</td>\n",
       "      <td>서울특별시 중랑구 신내로16길 17 105호 (신내동)</td>\n",
       "      <td>3421-4200</td>\n",
       "    </tr>\n",
       "  </tbody>\n",
       "</table>\n",
       "</div>"
      ],
      "text/plain": [
       "       약국이름 시도명                                              주소           전화번호\n",
       "0      유심약국  서울                 서울특별시 중랑구 봉화산로 217 (신내동, 오상빌딩내)   02-3422-2755\n",
       "1    서울동산약국  서울                    서울특별시 중랑구 신내로16길 17 1층 (신내동)      3423-0808\n",
       "2    원플러스약국  서울         서울특별시 중랑구 신내로 201 1층 (신내동, 홈플러스 서울 신내점)   02-3422-6953\n",
       "3      동남약국  서울                  서울특별시 중랑구 신내로 45 해성빌딩 1층 (신내동)   02-2207-3356\n",
       "4   온누리건강약국  서울                     서울특별시 중랑구 봉화산로 215 1층 (신내동)   02-3422-3097\n",
       "5      오성약국  서울                      서울특별시 중랑구 신내로 72 원빌딩 (신내동)  070-8805-8844\n",
       "6  친절한 명성약국  서울               서울특별시 중랑구 신내로16길 17 1층 104호 (신내동)   02-3421-8586\n",
       "7     한사랑약국  서울            서울특별시 중랑구 신내로 225 266호 (신내동, 디아뜨갤러리)  070-4229-9602\n",
       "8      건강약국  서울  서울특별시 중랑구 신내로 135 신내9단지아파트 제상가1동 1층 117호 (신내동)   02-3421-7582\n",
       "9      대한약국  서울                  서울특별시 중랑구 신내로16길 17 105호 (신내동)      3421-4200"
      ]
     },
     "execution_count": 103,
     "metadata": {},
     "output_type": "execute_result"
    }
   ],
   "source": [
    "col_nm = ['약국이름','시도명','주소','전화번호']\n",
    "new_df = pd.DataFrame(list_all, columns=col_nm)\n",
    "new_df"
   ]
  },
  {
   "cell_type": "code",
   "execution_count": 124,
   "id": "504fe60f",
   "metadata": {},
   "outputs": [
    {
     "name": "stdout",
     "output_type": "stream",
     "text": [
      "b'<?xml version=\"1.0\" encoding=\"UTF-8\" standalone=\"yes\"?><response><header><resultCode>00</resultCode><resultMsg>NORMAL SERVICE.</resultMsg></header><body><items><item><airportEng>GIMPO INTERNATIONAL AIRPORT</airportEng><airportKor>\\xea\\xb9\\x80\\xed\\x8f\\xac\\xea\\xb5\\xad\\xec\\xa0\\x9c\\xea\\xb3\\xb5\\xed\\x95\\xad</airportKor><parkingAirportCodeName>[\\xec\\x83\\x81\\xec\\x84\\xb8]\\xec\\x98\\x88\\xec\\x95\\xbd\\xec\\xa3\\xbc\\xec\\xb0\\xa8\\xec\\x9e\\xa5</parkingAirportCodeName><parkingCongestion>\\xec\\x9b\\x90\\xed\\x99\\x9c</parkingCongestion><parkingCongestionDegree>13.86%</parkingCongestionDegree><parkingOccupiedSpace>46</parkingOccupiedSpace><parkingTotalSpace>332</parkingTotalSpace><sysGetdate>2022-06-20</sysGetdate><sysGettime>14:53:03</sysGettime></item><item><airportEng>GIMPO INTERNATIONAL AIRPORT</airportEng><airportKor>\\xea\\xb9\\x80\\xed\\x8f\\xac\\xea\\xb5\\xad\\xec\\xa0\\x9c\\xea\\xb3\\xb5\\xed\\x95\\xad</airportKor><parkingAirportCodeName>\\xea\\xb5\\xad\\xeb\\x82\\xb4\\xec\\x84\\xa0 \\xec\\xa0\\x9c1\\xec\\xa3\\xbc\\xec\\xb0\\xa8\\xec\\x9e\\xa5</parkingAirportCodeName><parkingCongestion>\\xed\\x98\\xbc\\xec\\x9e\\xa1</parkingCongestion><parkingCongestionDegree>91.36%</parkingCongestionDegree><parkingOccupiedSpace>2082</parkingOccupiedSpace><parkingTotalSpace>2279</parkingTotalSpace><sysGetdate>2022-06-20</sysGetdate><sysGettime>14:53:02</sysGettime></item><item><airportEng>GIMPO INTERNATIONAL AIRPORT</airportEng><airportKor>\\xea\\xb9\\x80\\xed\\x8f\\xac\\xea\\xb5\\xad\\xec\\xa0\\x9c\\xea\\xb3\\xb5\\xed\\x95\\xad</airportKor><parkingAirportCodeName>\\xea\\xb5\\xad\\xeb\\x82\\xb4\\xec\\x84\\xa0 \\xec\\xa0\\x9c2\\xec\\xa3\\xbc\\xec\\xb0\\xa8\\xec\\x9e\\xa5</parkingAirportCodeName><parkingCongestion>\\xed\\x98\\xbc\\xec\\x9e\\xa1</parkingCongestion><parkingCongestionDegree>90.84%</parkingCongestionDegree><parkingOccupiedSpace>1586</parkingOccupiedSpace><parkingTotalSpace>1746</parkingTotalSpace><sysGetdate>2022-06-20</sysGetdate><sysGettime>14:53:02</sysGettime></item><item><airportEng>GIMPO INTERNATIONAL AIRPORT</airportEng><airportKor>\\xea\\xb9\\x80\\xed\\x8f\\xac\\xea\\xb5\\xad\\xec\\xa0\\x9c\\xea\\xb3\\xb5\\xed\\x95\\xad</airportKor><parkingAirportCodeName>\\xea\\xb5\\xad\\xec\\xa0\\x9c\\xec\\x84\\xa0 \\xec\\xa3\\xbc\\xec\\xb0\\xa8\\xeb\\xb9\\x8c\\xeb\\x94\\xa9</parkingAirportCodeName><parkingCongestion>\\xec\\x9b\\x90\\xed\\x99\\x9c</parkingCongestion><parkingCongestionDegree>0%</parkingCongestionDegree><parkingOccupiedSpace>0</parkingOccupiedSpace><parkingTotalSpace>567</parkingTotalSpace><sysGetdate>2022-06-20</sysGetdate><sysGettime>14:53:03</sysGettime></item><item><airportEng>GIMPO INTERNATIONAL AIRPORT</airportEng><airportKor>\\xea\\xb9\\x80\\xed\\x8f\\xac\\xea\\xb5\\xad\\xec\\xa0\\x9c\\xea\\xb3\\xb5\\xed\\x95\\xad</airportKor><parkingAirportCodeName>\\xea\\xb5\\xad\\xec\\xa0\\x9c\\xec\\x84\\xa0 \\xec\\xa7\\x80\\xed\\x95\\x98\\xec\\xa3\\xbc\\xec\\xb0\\xa8\\xec\\x9e\\xa5</parkingAirportCodeName><parkingCongestion>\\xec\\x9b\\x90\\xed\\x99\\x9c</parkingCongestion><parkingCongestionDegree>19.17%</parkingCongestionDegree><parkingOccupiedSpace>230</parkingOccupiedSpace><parkingTotalSpace>1200</parkingTotalSpace><sysGetdate>2022-06-20</sysGetdate><sysGettime>14:53:02</sysGettime></item><item><airportEng>GIMPO INTERNATIONAL AIRPORT</airportEng><airportKor>\\xea\\xb9\\x80\\xed\\x8f\\xac\\xea\\xb5\\xad\\xec\\xa0\\x9c\\xea\\xb3\\xb5\\xed\\x95\\xad</airportKor><parkingAirportCodeName>\\xed\\x99\\x94\\xeb\\xac\\xbc\\xec\\xb2\\xad\\xec\\x82\\xac \\xec\\xa3\\xbc\\xec\\xb0\\xa8\\xec\\x9e\\xa5</parkingAirportCodeName><parkingCongestion>\\xec\\x9b\\x90\\xed\\x99\\x9c</parkingCongestion><parkingCongestionDegree>53.74%</parkingCongestionDegree><parkingOccupiedSpace>611</parkingOccupiedSpace><parkingTotalSpace>1137</parkingTotalSpace><sysGetdate>2022-06-20</sysGetdate><sysGettime>14:53:02</sysGettime></item></items><numOfRows>10</numOfRows><pageNo>1</pageNo><totalCount>6</totalCount></body></response>'\n"
     ]
    }
   ],
   "source": [
    "# 한국공항공사_전국공항 주차장 혼잡도\n",
    "\n",
    "import requests\n",
    "\n",
    "apikey = '인증키'\n",
    "\n",
    "schAirportCode = 'GMP'\n",
    "numOfRows = 10\n",
    "pageNo = 1\n",
    "\n",
    "api = 'http://openapi.airport.co.kr/service/rest/AirportParkingCongestion/airportParkingCongestionRT?schAirportCode={ap}&serviceKey={key}&numOfRows={row}&pageNo={page}'\n",
    "\n",
    "url = api.format(ap = schAirportCode,\n",
    "                 key  = apikey,\n",
    "                 row = numOfRows,\n",
    "                 page = pageNo)\n",
    "\n",
    "\n",
    "response = requests.get(url)\n",
    "print(response.content)"
   ]
  },
  {
   "cell_type": "code",
   "execution_count": 125,
   "id": "eac70f14",
   "metadata": {},
   "outputs": [],
   "source": [
    "from bs4 import BeautifulSoup\n",
    "import requests"
   ]
  },
  {
   "cell_type": "code",
   "execution_count": 126,
   "id": "7bc66098",
   "metadata": {},
   "outputs": [
    {
     "data": {
      "text/plain": [
       "<?xml version=\"1.0\" encoding=\"UTF-8\" standalone=\"yes\"?><response><header><resultcode>00</resultcode><resultmsg>NORMAL SERVICE.</resultmsg></header><body><items><item><airporteng>GIMPO INTERNATIONAL AIRPORT</airporteng><airportkor>김포국제공항</airportkor><parkingairportcodename>[상세]예약주차장</parkingairportcodename><parkingcongestion>원활</parkingcongestion><parkingcongestiondegree>13.86%</parkingcongestiondegree><parkingoccupiedspace>46</parkingoccupiedspace><parkingtotalspace>332</parkingtotalspace><sysgetdate>2022-06-20</sysgetdate><sysgettime>14:53:03</sysgettime></item><item><airporteng>GIMPO INTERNATIONAL AIRPORT</airporteng><airportkor>김포국제공항</airportkor><parkingairportcodename>국내선 제1주차장</parkingairportcodename><parkingcongestion>혼잡</parkingcongestion><parkingcongestiondegree>91.36%</parkingcongestiondegree><parkingoccupiedspace>2082</parkingoccupiedspace><parkingtotalspace>2279</parkingtotalspace><sysgetdate>2022-06-20</sysgetdate><sysgettime>14:53:02</sysgettime></item><item><airporteng>GIMPO INTERNATIONAL AIRPORT</airporteng><airportkor>김포국제공항</airportkor><parkingairportcodename>국내선 제2주차장</parkingairportcodename><parkingcongestion>혼잡</parkingcongestion><parkingcongestiondegree>90.84%</parkingcongestiondegree><parkingoccupiedspace>1586</parkingoccupiedspace><parkingtotalspace>1746</parkingtotalspace><sysgetdate>2022-06-20</sysgetdate><sysgettime>14:53:02</sysgettime></item><item><airporteng>GIMPO INTERNATIONAL AIRPORT</airporteng><airportkor>김포국제공항</airportkor><parkingairportcodename>국제선 주차빌딩</parkingairportcodename><parkingcongestion>원활</parkingcongestion><parkingcongestiondegree>0%</parkingcongestiondegree><parkingoccupiedspace>0</parkingoccupiedspace><parkingtotalspace>567</parkingtotalspace><sysgetdate>2022-06-20</sysgetdate><sysgettime>14:53:03</sysgettime></item><item><airporteng>GIMPO INTERNATIONAL AIRPORT</airporteng><airportkor>김포국제공항</airportkor><parkingairportcodename>국제선 지하주차장</parkingairportcodename><parkingcongestion>원활</parkingcongestion><parkingcongestiondegree>19.17%</parkingcongestiondegree><parkingoccupiedspace>230</parkingoccupiedspace><parkingtotalspace>1200</parkingtotalspace><sysgetdate>2022-06-20</sysgetdate><sysgettime>14:53:02</sysgettime></item><item><airporteng>GIMPO INTERNATIONAL AIRPORT</airporteng><airportkor>김포국제공항</airportkor><parkingairportcodename>화물청사 주차장</parkingairportcodename><parkingcongestion>원활</parkingcongestion><parkingcongestiondegree>53.74%</parkingcongestiondegree><parkingoccupiedspace>611</parkingoccupiedspace><parkingtotalspace>1137</parkingtotalspace><sysgetdate>2022-06-20</sysgetdate><sysgettime>14:53:02</sysgettime></item></items><numofrows>10</numofrows><pageno>1</pageno><totalcount>6</totalcount></body></response>"
      ]
     },
     "execution_count": 126,
     "metadata": {},
     "output_type": "execute_result"
    }
   ],
   "source": [
    "re = response.text\n",
    "soup = BeautifulSoup(re, 'html.parser')\n",
    "soup"
   ]
  },
  {
   "cell_type": "code",
   "execution_count": 132,
   "id": "7cc63048",
   "metadata": {},
   "outputs": [
    {
     "data": {
      "text/plain": [
       "[<airporteng>GIMPO INTERNATIONAL AIRPORT</airporteng>,\n",
       " <airporteng>GIMPO INTERNATIONAL AIRPORT</airporteng>,\n",
       " <airporteng>GIMPO INTERNATIONAL AIRPORT</airporteng>,\n",
       " <airporteng>GIMPO INTERNATIONAL AIRPORT</airporteng>,\n",
       " <airporteng>GIMPO INTERNATIONAL AIRPORT</airporteng>,\n",
       " <airporteng>GIMPO INTERNATIONAL AIRPORT</airporteng>]"
      ]
     },
     "execution_count": 132,
     "metadata": {},
     "output_type": "execute_result"
    }
   ],
   "source": [
    "air_eng_list = soup.find_all('airporteng')\n",
    "air_eng_list"
   ]
  },
  {
   "cell_type": "code",
   "execution_count": 133,
   "id": "b09b8c86",
   "metadata": {},
   "outputs": [
    {
     "data": {
      "text/plain": [
       "[<airportkor>김포국제공항</airportkor>,\n",
       " <airportkor>김포국제공항</airportkor>,\n",
       " <airportkor>김포국제공항</airportkor>,\n",
       " <airportkor>김포국제공항</airportkor>,\n",
       " <airportkor>김포국제공항</airportkor>,\n",
       " <airportkor>김포국제공항</airportkor>]"
      ]
     },
     "execution_count": 133,
     "metadata": {},
     "output_type": "execute_result"
    }
   ],
   "source": [
    "air_kor_list = soup.find_all('airportkor')\n",
    "air_kor_list"
   ]
  },
  {
   "cell_type": "code",
   "execution_count": 135,
   "id": "4d2a19bf",
   "metadata": {},
   "outputs": [
    {
     "data": {
      "text/plain": [
       "[<parkingairportcodename>[상세]예약주차장</parkingairportcodename>,\n",
       " <parkingairportcodename>국내선 제1주차장</parkingairportcodename>,\n",
       " <parkingairportcodename>국내선 제2주차장</parkingairportcodename>,\n",
       " <parkingairportcodename>국제선 주차빌딩</parkingairportcodename>,\n",
       " <parkingairportcodename>국제선 지하주차장</parkingairportcodename>,\n",
       " <parkingairportcodename>화물청사 주차장</parkingairportcodename>]"
      ]
     },
     "execution_count": 135,
     "metadata": {},
     "output_type": "execute_result"
    }
   ],
   "source": [
    "park_name_list = soup.find_all('parkingairportcodename')\n",
    "park_name_list"
   ]
  },
  {
   "cell_type": "code",
   "execution_count": 137,
   "id": "d924a009",
   "metadata": {},
   "outputs": [
    {
     "data": {
      "text/plain": [
       "[<parkingcongestion>원활</parkingcongestion>,\n",
       " <parkingcongestion>혼잡</parkingcongestion>,\n",
       " <parkingcongestion>혼잡</parkingcongestion>,\n",
       " <parkingcongestion>원활</parkingcongestion>,\n",
       " <parkingcongestion>원활</parkingcongestion>,\n",
       " <parkingcongestion>원활</parkingcongestion>]"
      ]
     },
     "execution_count": 137,
     "metadata": {},
     "output_type": "execute_result"
    }
   ],
   "source": [
    "cong_list = soup.find_all('parkingcongestion')\n",
    "cong_list"
   ]
  },
  {
   "cell_type": "code",
   "execution_count": 138,
   "id": "cbdca7a4",
   "metadata": {},
   "outputs": [
    {
     "data": {
      "text/plain": [
       "[<parkingcongestiondegree>13.86%</parkingcongestiondegree>,\n",
       " <parkingcongestiondegree>91.36%</parkingcongestiondegree>,\n",
       " <parkingcongestiondegree>90.84%</parkingcongestiondegree>,\n",
       " <parkingcongestiondegree>0%</parkingcongestiondegree>,\n",
       " <parkingcongestiondegree>19.17%</parkingcongestiondegree>,\n",
       " <parkingcongestiondegree>53.74%</parkingcongestiondegree>]"
      ]
     },
     "execution_count": 138,
     "metadata": {},
     "output_type": "execute_result"
    }
   ],
   "source": [
    "cong_rate_list = soup.find_all('parkingcongestiondegree')\n",
    "cong_rate_list"
   ]
  },
  {
   "cell_type": "code",
   "execution_count": 139,
   "id": "d848dc06",
   "metadata": {},
   "outputs": [
    {
     "data": {
      "text/plain": [
       "[<parkingoccupiedspace>46</parkingoccupiedspace>,\n",
       " <parkingoccupiedspace>2082</parkingoccupiedspace>,\n",
       " <parkingoccupiedspace>1586</parkingoccupiedspace>,\n",
       " <parkingoccupiedspace>0</parkingoccupiedspace>,\n",
       " <parkingoccupiedspace>230</parkingoccupiedspace>,\n",
       " <parkingoccupiedspace>611</parkingoccupiedspace>]"
      ]
     },
     "execution_count": 139,
     "metadata": {},
     "output_type": "execute_result"
    }
   ],
   "source": [
    "car_num_list = soup.find_all('parkingoccupiedspace')\n",
    "car_num_list"
   ]
  },
  {
   "cell_type": "code",
   "execution_count": 140,
   "id": "64f86cfd",
   "metadata": {},
   "outputs": [
    {
     "data": {
      "text/plain": [
       "[<parkingtotalspace>332</parkingtotalspace>,\n",
       " <parkingtotalspace>2279</parkingtotalspace>,\n",
       " <parkingtotalspace>1746</parkingtotalspace>,\n",
       " <parkingtotalspace>567</parkingtotalspace>,\n",
       " <parkingtotalspace>1200</parkingtotalspace>,\n",
       " <parkingtotalspace>1137</parkingtotalspace>]"
      ]
     },
     "execution_count": 140,
     "metadata": {},
     "output_type": "execute_result"
    }
   ],
   "source": [
    "tot_num_list = soup.find_all('parkingtotalspace')\n",
    "tot_num_list"
   ]
  },
  {
   "cell_type": "code",
   "execution_count": 147,
   "id": "35d485c9",
   "metadata": {},
   "outputs": [],
   "source": [
    "air_eng_list_txt = []\n",
    "air_kor_list_txt = []\n",
    "park_name_list_txt = []\n",
    "cong_list_txt = []\n",
    "cong_rate_list_txt = []\n",
    "car_num_list_txt = []\n",
    "tot_num_list_txt = []"
   ]
  },
  {
   "cell_type": "code",
   "execution_count": 150,
   "id": "bd978722",
   "metadata": {},
   "outputs": [],
   "source": [
    "for i in range(len(tot_num_list)):\n",
    "    air_eng_list_txt.append(air_eng_list[i].text)\n",
    "    air_kor_list_txt.append(air_kor_list[i].text)\n",
    "    park_name_list_txt.append(park_name_list[i].text)\n",
    "    cong_list_txt.append(cong_list[i].text)\n",
    "    cong_rate_list_txt.append(cong_rate_list[i].text)\n",
    "    car_num_list_txt.append(car_num_list[i].text)\n",
    "    tot_num_list_txt.append(tot_num_list[i].text)"
   ]
  },
  {
   "cell_type": "code",
   "execution_count": 151,
   "id": "afbfdbc9",
   "metadata": {},
   "outputs": [
    {
     "data": {
      "text/plain": [
       "['GIMPO INTERNATIONAL AIRPORT',\n",
       " 'GIMPO INTERNATIONAL AIRPORT',\n",
       " 'GIMPO INTERNATIONAL AIRPORT',\n",
       " 'GIMPO INTERNATIONAL AIRPORT',\n",
       " 'GIMPO INTERNATIONAL AIRPORT',\n",
       " 'GIMPO INTERNATIONAL AIRPORT']"
      ]
     },
     "execution_count": 151,
     "metadata": {},
     "output_type": "execute_result"
    }
   ],
   "source": [
    "air_eng_list_txt"
   ]
  },
  {
   "cell_type": "code",
   "execution_count": 152,
   "id": "88662e96",
   "metadata": {},
   "outputs": [
    {
     "data": {
      "text/plain": [
       "['김포국제공항', '김포국제공항', '김포국제공항', '김포국제공항', '김포국제공항', '김포국제공항']"
      ]
     },
     "execution_count": 152,
     "metadata": {},
     "output_type": "execute_result"
    }
   ],
   "source": [
    "air_kor_list_txt"
   ]
  },
  {
   "cell_type": "code",
   "execution_count": 153,
   "id": "68105b73",
   "metadata": {},
   "outputs": [
    {
     "data": {
      "text/plain": [
       "['[상세]예약주차장', '국내선 제1주차장', '국내선 제2주차장', '국제선 주차빌딩', '국제선 지하주차장', '화물청사 주차장']"
      ]
     },
     "execution_count": 153,
     "metadata": {},
     "output_type": "execute_result"
    }
   ],
   "source": [
    "park_name_list_txt"
   ]
  },
  {
   "cell_type": "code",
   "execution_count": 154,
   "id": "8af522da",
   "metadata": {},
   "outputs": [
    {
     "data": {
      "text/plain": [
       "['원활', '혼잡', '혼잡', '원활', '원활', '원활']"
      ]
     },
     "execution_count": 154,
     "metadata": {},
     "output_type": "execute_result"
    }
   ],
   "source": [
    "cong_list_txt"
   ]
  },
  {
   "cell_type": "code",
   "execution_count": 155,
   "id": "ed09ac8c",
   "metadata": {},
   "outputs": [
    {
     "data": {
      "text/plain": [
       "['13.86%', '91.36%', '90.84%', '0%', '19.17%', '53.74%']"
      ]
     },
     "execution_count": 155,
     "metadata": {},
     "output_type": "execute_result"
    }
   ],
   "source": [
    "cong_rate_list_txt"
   ]
  },
  {
   "cell_type": "code",
   "execution_count": 156,
   "id": "ac9e7c40",
   "metadata": {},
   "outputs": [
    {
     "data": {
      "text/plain": [
       "['46', '2082', '1586', '0', '230', '611']"
      ]
     },
     "execution_count": 156,
     "metadata": {},
     "output_type": "execute_result"
    }
   ],
   "source": [
    "car_num_list_txt"
   ]
  },
  {
   "cell_type": "code",
   "execution_count": 157,
   "id": "2be4eee2",
   "metadata": {},
   "outputs": [
    {
     "data": {
      "text/plain": [
       "['332', '2279', '1746', '567', '1200', '1137']"
      ]
     },
     "execution_count": 157,
     "metadata": {},
     "output_type": "execute_result"
    }
   ],
   "source": [
    "tot_num_list_txt"
   ]
  },
  {
   "cell_type": "code",
   "execution_count": 159,
   "id": "767556a3",
   "metadata": {},
   "outputs": [],
   "source": [
    "GMP_list = pd.DataFrame({'공항명(영문)' : air_eng_list_txt,\n",
    "                         '공항명(한글)' : air_kor_list_txt,\n",
    "                         '주차장명' : park_name_list_txt,\n",
    "                         '주차장 혼잡정도' : cong_list_txt,\n",
    "                         '주차장 혼잡률' : cong_rate_list_txt,\n",
    "                         '입고된 차량 수' : car_num_list_txt,\n",
    "                         '전체 주차면 수' : tot_num_list_txt})"
   ]
  },
  {
   "cell_type": "code",
   "execution_count": 160,
   "id": "d3d0402d",
   "metadata": {},
   "outputs": [
    {
     "data": {
      "text/html": [
       "<div>\n",
       "<style scoped>\n",
       "    .dataframe tbody tr th:only-of-type {\n",
       "        vertical-align: middle;\n",
       "    }\n",
       "\n",
       "    .dataframe tbody tr th {\n",
       "        vertical-align: top;\n",
       "    }\n",
       "\n",
       "    .dataframe thead th {\n",
       "        text-align: right;\n",
       "    }\n",
       "</style>\n",
       "<table border=\"1\" class=\"dataframe\">\n",
       "  <thead>\n",
       "    <tr style=\"text-align: right;\">\n",
       "      <th></th>\n",
       "      <th>공항명(영문)</th>\n",
       "      <th>공항명(한글)</th>\n",
       "      <th>주차장명</th>\n",
       "      <th>주차장 혼잡정도</th>\n",
       "      <th>주차장 혼잡률</th>\n",
       "      <th>입고된 차량 수</th>\n",
       "      <th>전체 주차면 수</th>\n",
       "    </tr>\n",
       "  </thead>\n",
       "  <tbody>\n",
       "    <tr>\n",
       "      <th>0</th>\n",
       "      <td>GIMPO INTERNATIONAL AIRPORT</td>\n",
       "      <td>김포국제공항</td>\n",
       "      <td>[상세]예약주차장</td>\n",
       "      <td>원활</td>\n",
       "      <td>13.86%</td>\n",
       "      <td>46</td>\n",
       "      <td>332</td>\n",
       "    </tr>\n",
       "    <tr>\n",
       "      <th>1</th>\n",
       "      <td>GIMPO INTERNATIONAL AIRPORT</td>\n",
       "      <td>김포국제공항</td>\n",
       "      <td>국내선 제1주차장</td>\n",
       "      <td>혼잡</td>\n",
       "      <td>91.36%</td>\n",
       "      <td>2082</td>\n",
       "      <td>2279</td>\n",
       "    </tr>\n",
       "    <tr>\n",
       "      <th>2</th>\n",
       "      <td>GIMPO INTERNATIONAL AIRPORT</td>\n",
       "      <td>김포국제공항</td>\n",
       "      <td>국내선 제2주차장</td>\n",
       "      <td>혼잡</td>\n",
       "      <td>90.84%</td>\n",
       "      <td>1586</td>\n",
       "      <td>1746</td>\n",
       "    </tr>\n",
       "    <tr>\n",
       "      <th>3</th>\n",
       "      <td>GIMPO INTERNATIONAL AIRPORT</td>\n",
       "      <td>김포국제공항</td>\n",
       "      <td>국제선 주차빌딩</td>\n",
       "      <td>원활</td>\n",
       "      <td>0%</td>\n",
       "      <td>0</td>\n",
       "      <td>567</td>\n",
       "    </tr>\n",
       "    <tr>\n",
       "      <th>4</th>\n",
       "      <td>GIMPO INTERNATIONAL AIRPORT</td>\n",
       "      <td>김포국제공항</td>\n",
       "      <td>국제선 지하주차장</td>\n",
       "      <td>원활</td>\n",
       "      <td>19.17%</td>\n",
       "      <td>230</td>\n",
       "      <td>1200</td>\n",
       "    </tr>\n",
       "    <tr>\n",
       "      <th>5</th>\n",
       "      <td>GIMPO INTERNATIONAL AIRPORT</td>\n",
       "      <td>김포국제공항</td>\n",
       "      <td>화물청사 주차장</td>\n",
       "      <td>원활</td>\n",
       "      <td>53.74%</td>\n",
       "      <td>611</td>\n",
       "      <td>1137</td>\n",
       "    </tr>\n",
       "  </tbody>\n",
       "</table>\n",
       "</div>"
      ],
      "text/plain": [
       "                       공항명(영문) 공항명(한글)       주차장명 주차장 혼잡정도 주차장 혼잡률 입고된 차량 수  \\\n",
       "0  GIMPO INTERNATIONAL AIRPORT  김포국제공항  [상세]예약주차장       원활  13.86%       46   \n",
       "1  GIMPO INTERNATIONAL AIRPORT  김포국제공항  국내선 제1주차장       혼잡  91.36%     2082   \n",
       "2  GIMPO INTERNATIONAL AIRPORT  김포국제공항  국내선 제2주차장       혼잡  90.84%     1586   \n",
       "3  GIMPO INTERNATIONAL AIRPORT  김포국제공항   국제선 주차빌딩       원활      0%        0   \n",
       "4  GIMPO INTERNATIONAL AIRPORT  김포국제공항  국제선 지하주차장       원활  19.17%      230   \n",
       "5  GIMPO INTERNATIONAL AIRPORT  김포국제공항   화물청사 주차장       원활  53.74%      611   \n",
       "\n",
       "  전체 주차면 수  \n",
       "0      332  \n",
       "1     2279  \n",
       "2     1746  \n",
       "3      567  \n",
       "4     1200  \n",
       "5     1137  "
      ]
     },
     "execution_count": 160,
     "metadata": {},
     "output_type": "execute_result"
    }
   ],
   "source": [
    "GMP_list"
   ]
  },
  {
   "cell_type": "markdown",
   "id": "02cfed01",
   "metadata": {},
   "source": [
    "# 모든 공항 데이터 다 받기"
   ]
  },
  {
   "cell_type": "code",
   "execution_count": 162,
   "id": "a84a7a55",
   "metadata": {},
   "outputs": [],
   "source": [
    "# 공항이름 리스트\n",
    "airport_list = ['GMP', 'PUS', 'CJU', 'TAE', 'KWJ', 'RSU', 'USN', 'KUV', 'WJU', 'CJJ']"
   ]
  },
  {
   "cell_type": "code",
   "execution_count": 163,
   "id": "373e47a1",
   "metadata": {},
   "outputs": [],
   "source": [
    "# 통합 데이터프레임\n",
    "df = pd.DataFrame()"
   ]
  },
  {
   "cell_type": "code",
   "execution_count": 166,
   "id": "e84c32cc",
   "metadata": {},
   "outputs": [
    {
     "name": "stderr",
     "output_type": "stream",
     "text": [
      "C:\\DEV\\Tools\\anaconda3\\lib\\site-packages\\bs4\\builder\\__init__.py:545: XMLParsedAsHTMLWarning: It looks like you're parsing an XML document using an HTML parser. If this really is an HTML document (maybe it's XHTML?), you can ignore or filter this warning. If it's XML, you should know that using an XML parser will be more reliable. To parse this document as XML, make sure you have the lxml package installed, and pass the keyword argument `features=\"xml\"` into the BeautifulSoup constructor.\n",
      "  warnings.warn(\n"
     ]
    }
   ],
   "source": [
    "for i in airport_list:\n",
    "    \n",
    "    # 각 공항의 데이터 받아오기\n",
    "    apikey = '인증키'\n",
    "\n",
    "    schAirportCode = '{}'.format(i)\n",
    "    numOfRows = 10\n",
    "    pageNo = 1\n",
    "\n",
    "    api = 'http://openapi.airport.co.kr/service/rest/AirportParkingCongestion/airportParkingCongestionRT?schAirportCode={ap}&serviceKey={key}&numOfRows={row}&pageNo={page}'\n",
    "\n",
    "    url = api.format(ap = schAirportCode,\n",
    "                     key  = apikey,\n",
    "                     row = numOfRows,\n",
    "                     page = pageNo)\n",
    "\n",
    "\n",
    "    response = requests.get(url)\n",
    "    \n",
    "    # 받아온 데이터를 BeautifulSoup 라이브러리를 이용해서 html 적용\n",
    "    re = response.text\n",
    "    soup = BeautifulSoup(re, 'html.parser')\n",
    "    \n",
    "    # 데이터프레임에 담을 데이터를 각 리스트에 담기\n",
    "    air_eng_list = soup.find_all('airporteng')\n",
    "    air_kor_list = soup.find_all('airportkor')\n",
    "    park_name_list = soup.find_all('parkingairportcodename')\n",
    "    cong_list = soup.find_all('parkingcongestion')\n",
    "    cong_rate_list = soup.find_all('parkingcongestiondegree')\n",
    "    car_num_list = soup.find_all('parkingoccupiedspace')\n",
    "    tot_num_list = soup.find_all('parkingtotalspace')\n",
    "    \n",
    "    # 데이터에서 텍스트만 추출한 것을 담을 빈 리스트\n",
    "    air_eng_list_txt = []\n",
    "    air_kor_list_txt = []\n",
    "    park_name_list_txt = []\n",
    "    cong_list_txt = []\n",
    "    cong_rate_list_txt = []\n",
    "    car_num_list_txt = []\n",
    "    tot_num_list_txt = []\n",
    "    \n",
    "    # 텍스트를 다시 리스트에 담아주는 반복문\n",
    "    for i in range(len(tot_num_list)):\n",
    "        air_eng_list_txt.append(air_eng_list[i].text)\n",
    "        air_kor_list_txt.append(air_kor_list[i].text)\n",
    "        park_name_list_txt.append(park_name_list[i].text)\n",
    "        cong_list_txt.append(cong_list[i].text)\n",
    "        cong_rate_list_txt.append(cong_rate_list[i].text)\n",
    "        car_num_list_txt.append(car_num_list[i].text)\n",
    "        tot_num_list_txt.append(tot_num_list[i].text)\n",
    "    \n",
    "    # 데이터프레임 작성\n",
    "    df_temp = pd.DataFrame({'공항명(영문)' : air_eng_list_txt,\n",
    "                           '공항명(한글)' : air_kor_list_txt,\n",
    "                           '주차장명' : park_name_list_txt,\n",
    "                           '주차장 혼잡정도' : cong_list_txt,\n",
    "                           '주차장 혼잡률' : cong_rate_list_txt,\n",
    "                           '입고된 차량 수' : car_num_list_txt,\n",
    "                           '전체 주차면 수' : tot_num_list_txt})\n",
    "    \n",
    "    # 통합 데이터프레임과 합치기\n",
    "    df = pd.concat([df, df_temp], ignore_index=True)    "
   ]
  },
  {
   "cell_type": "code",
   "execution_count": 167,
   "id": "888db2f2",
   "metadata": {},
   "outputs": [
    {
     "data": {
      "text/html": [
       "<div>\n",
       "<style scoped>\n",
       "    .dataframe tbody tr th:only-of-type {\n",
       "        vertical-align: middle;\n",
       "    }\n",
       "\n",
       "    .dataframe tbody tr th {\n",
       "        vertical-align: top;\n",
       "    }\n",
       "\n",
       "    .dataframe thead th {\n",
       "        text-align: right;\n",
       "    }\n",
       "</style>\n",
       "<table border=\"1\" class=\"dataframe\">\n",
       "  <thead>\n",
       "    <tr style=\"text-align: right;\">\n",
       "      <th></th>\n",
       "      <th>공항명(영문)</th>\n",
       "      <th>공항명(한글)</th>\n",
       "      <th>주차장명</th>\n",
       "      <th>주차장 혼잡정도</th>\n",
       "      <th>주차장 혼잡률</th>\n",
       "      <th>입고된 차량 수</th>\n",
       "      <th>전체 주차면 수</th>\n",
       "    </tr>\n",
       "  </thead>\n",
       "  <tbody>\n",
       "    <tr>\n",
       "      <th>0</th>\n",
       "      <td>GIMPO INTERNATIONAL AIRPORT</td>\n",
       "      <td>김포국제공항</td>\n",
       "      <td>[상세]예약주차장</td>\n",
       "      <td>원활</td>\n",
       "      <td>15.36%</td>\n",
       "      <td>51</td>\n",
       "      <td>332</td>\n",
       "    </tr>\n",
       "    <tr>\n",
       "      <th>1</th>\n",
       "      <td>GIMPO INTERNATIONAL AIRPORT</td>\n",
       "      <td>김포국제공항</td>\n",
       "      <td>국내선 제1주차장</td>\n",
       "      <td>혼잡</td>\n",
       "      <td>90.7%</td>\n",
       "      <td>2067</td>\n",
       "      <td>2279</td>\n",
       "    </tr>\n",
       "    <tr>\n",
       "      <th>2</th>\n",
       "      <td>GIMPO INTERNATIONAL AIRPORT</td>\n",
       "      <td>김포국제공항</td>\n",
       "      <td>국내선 제2주차장</td>\n",
       "      <td>원활</td>\n",
       "      <td>88.83%</td>\n",
       "      <td>1551</td>\n",
       "      <td>1746</td>\n",
       "    </tr>\n",
       "    <tr>\n",
       "      <th>3</th>\n",
       "      <td>GIMPO INTERNATIONAL AIRPORT</td>\n",
       "      <td>김포국제공항</td>\n",
       "      <td>국제선 주차빌딩</td>\n",
       "      <td>원활</td>\n",
       "      <td>0%</td>\n",
       "      <td>0</td>\n",
       "      <td>567</td>\n",
       "    </tr>\n",
       "    <tr>\n",
       "      <th>4</th>\n",
       "      <td>GIMPO INTERNATIONAL AIRPORT</td>\n",
       "      <td>김포국제공항</td>\n",
       "      <td>국제선 지하주차장</td>\n",
       "      <td>원활</td>\n",
       "      <td>19.25%</td>\n",
       "      <td>231</td>\n",
       "      <td>1200</td>\n",
       "    </tr>\n",
       "    <tr>\n",
       "      <th>5</th>\n",
       "      <td>GIMPO INTERNATIONAL AIRPORT</td>\n",
       "      <td>김포국제공항</td>\n",
       "      <td>화물청사 주차장</td>\n",
       "      <td>원활</td>\n",
       "      <td>54%</td>\n",
       "      <td>614</td>\n",
       "      <td>1137</td>\n",
       "    </tr>\n",
       "    <tr>\n",
       "      <th>6</th>\n",
       "      <td>GIMHAE INTERNATIONAL AIRPORT</td>\n",
       "      <td>김해국제공항</td>\n",
       "      <td>P1여객주차장</td>\n",
       "      <td>원활</td>\n",
       "      <td>64.56%</td>\n",
       "      <td>1512</td>\n",
       "      <td>2342</td>\n",
       "    </tr>\n",
       "    <tr>\n",
       "      <th>7</th>\n",
       "      <td>GIMHAE INTERNATIONAL AIRPORT</td>\n",
       "      <td>김해국제공항</td>\n",
       "      <td>P2여객주차장</td>\n",
       "      <td>원활</td>\n",
       "      <td>61.8%</td>\n",
       "      <td>1108</td>\n",
       "      <td>1793</td>\n",
       "    </tr>\n",
       "    <tr>\n",
       "      <th>8</th>\n",
       "      <td>GIMHAE INTERNATIONAL AIRPORT</td>\n",
       "      <td>김해국제공항</td>\n",
       "      <td>P3여객(화물)주차장</td>\n",
       "      <td>원활</td>\n",
       "      <td>44.21%</td>\n",
       "      <td>435</td>\n",
       "      <td>984</td>\n",
       "    </tr>\n",
       "    <tr>\n",
       "      <th>9</th>\n",
       "      <td>GIMHAE INTERNATIONAL AIRPORT</td>\n",
       "      <td>김해국제공항</td>\n",
       "      <td>P4여객(화물)주차장</td>\n",
       "      <td>원활</td>\n",
       "      <td>71.32%</td>\n",
       "      <td>475</td>\n",
       "      <td>666</td>\n",
       "    </tr>\n",
       "    <tr>\n",
       "      <th>10</th>\n",
       "      <td>JEJU INTERNATIONAL AIRPORT</td>\n",
       "      <td>제주국제공항</td>\n",
       "      <td>여객</td>\n",
       "      <td>혼잡</td>\n",
       "      <td>92.68%</td>\n",
       "      <td>1723</td>\n",
       "      <td>1859</td>\n",
       "    </tr>\n",
       "    <tr>\n",
       "      <th>11</th>\n",
       "      <td>JEJU INTERNATIONAL AIRPORT</td>\n",
       "      <td>제주국제공항</td>\n",
       "      <td>화물</td>\n",
       "      <td>원활</td>\n",
       "      <td>10.53%</td>\n",
       "      <td>32</td>\n",
       "      <td>304</td>\n",
       "    </tr>\n",
       "    <tr>\n",
       "      <th>12</th>\n",
       "      <td>DAEGU INTERNATIONAL AIRPORT</td>\n",
       "      <td>대구국제공항</td>\n",
       "      <td>일반</td>\n",
       "      <td>원활</td>\n",
       "      <td>74.05%</td>\n",
       "      <td>1033</td>\n",
       "      <td>1395</td>\n",
       "    </tr>\n",
       "    <tr>\n",
       "      <th>13</th>\n",
       "      <td>DAEGU INTERNATIONAL AIRPORT</td>\n",
       "      <td>대구국제공항</td>\n",
       "      <td>화물주차장</td>\n",
       "      <td>원활</td>\n",
       "      <td>0%</td>\n",
       "      <td>0</td>\n",
       "      <td>34</td>\n",
       "    </tr>\n",
       "    <tr>\n",
       "      <th>14</th>\n",
       "      <td>GWANGJU AIRPORT</td>\n",
       "      <td>광주공항</td>\n",
       "      <td>제1주차장</td>\n",
       "      <td>만차</td>\n",
       "      <td>100%</td>\n",
       "      <td>540</td>\n",
       "      <td>540</td>\n",
       "    </tr>\n",
       "    <tr>\n",
       "      <th>15</th>\n",
       "      <td>GWANGJU AIRPORT</td>\n",
       "      <td>광주공항</td>\n",
       "      <td>제2주차장</td>\n",
       "      <td>만차</td>\n",
       "      <td>100%</td>\n",
       "      <td>400</td>\n",
       "      <td>400</td>\n",
       "    </tr>\n",
       "    <tr>\n",
       "      <th>16</th>\n",
       "      <td>YEOSU AIRPORT</td>\n",
       "      <td>여수공항</td>\n",
       "      <td>제1주차장</td>\n",
       "      <td>원활</td>\n",
       "      <td>83.61%</td>\n",
       "      <td>347</td>\n",
       "      <td>415</td>\n",
       "    </tr>\n",
       "    <tr>\n",
       "      <th>17</th>\n",
       "      <td>YEOSU AIRPORT</td>\n",
       "      <td>여수공항</td>\n",
       "      <td>제2주차장</td>\n",
       "      <td>원활</td>\n",
       "      <td>76.56%</td>\n",
       "      <td>160</td>\n",
       "      <td>209</td>\n",
       "    </tr>\n",
       "    <tr>\n",
       "      <th>18</th>\n",
       "      <td>ULSAN AIRPORT</td>\n",
       "      <td>울산공항</td>\n",
       "      <td>일반</td>\n",
       "      <td>원활</td>\n",
       "      <td>65.27%</td>\n",
       "      <td>297</td>\n",
       "      <td>455</td>\n",
       "    </tr>\n",
       "    <tr>\n",
       "      <th>19</th>\n",
       "      <td>GUNSAN AIRPORT</td>\n",
       "      <td>군산공항</td>\n",
       "      <td>일반</td>\n",
       "      <td>원활</td>\n",
       "      <td>89.92%</td>\n",
       "      <td>321</td>\n",
       "      <td>357</td>\n",
       "    </tr>\n",
       "    <tr>\n",
       "      <th>20</th>\n",
       "      <td>WONJU AIRPORT</td>\n",
       "      <td>원주공항</td>\n",
       "      <td>일반</td>\n",
       "      <td>만차</td>\n",
       "      <td>98.52%</td>\n",
       "      <td>133</td>\n",
       "      <td>135</td>\n",
       "    </tr>\n",
       "    <tr>\n",
       "      <th>21</th>\n",
       "      <td>CHEONGJU INTERNATIONAL AIRPORT</td>\n",
       "      <td>청주국제공항</td>\n",
       "      <td>제1주차장</td>\n",
       "      <td>만차</td>\n",
       "      <td>97.28%</td>\n",
       "      <td>2143</td>\n",
       "      <td>2203</td>\n",
       "    </tr>\n",
       "    <tr>\n",
       "      <th>22</th>\n",
       "      <td>CHEONGJU INTERNATIONAL AIRPORT</td>\n",
       "      <td>청주국제공항</td>\n",
       "      <td>제2주차장</td>\n",
       "      <td>원활</td>\n",
       "      <td>69.29%</td>\n",
       "      <td>1180</td>\n",
       "      <td>1703</td>\n",
       "    </tr>\n",
       "  </tbody>\n",
       "</table>\n",
       "</div>"
      ],
      "text/plain": [
       "                           공항명(영문) 공항명(한글)         주차장명 주차장 혼잡정도 주차장 혼잡률  \\\n",
       "0      GIMPO INTERNATIONAL AIRPORT  김포국제공항    [상세]예약주차장       원활  15.36%   \n",
       "1      GIMPO INTERNATIONAL AIRPORT  김포국제공항    국내선 제1주차장       혼잡   90.7%   \n",
       "2      GIMPO INTERNATIONAL AIRPORT  김포국제공항    국내선 제2주차장       원활  88.83%   \n",
       "3      GIMPO INTERNATIONAL AIRPORT  김포국제공항     국제선 주차빌딩       원활      0%   \n",
       "4      GIMPO INTERNATIONAL AIRPORT  김포국제공항    국제선 지하주차장       원활  19.25%   \n",
       "5      GIMPO INTERNATIONAL AIRPORT  김포국제공항     화물청사 주차장       원활     54%   \n",
       "6     GIMHAE INTERNATIONAL AIRPORT  김해국제공항      P1여객주차장       원활  64.56%   \n",
       "7     GIMHAE INTERNATIONAL AIRPORT  김해국제공항      P2여객주차장       원활   61.8%   \n",
       "8     GIMHAE INTERNATIONAL AIRPORT  김해국제공항  P3여객(화물)주차장       원활  44.21%   \n",
       "9     GIMHAE INTERNATIONAL AIRPORT  김해국제공항  P4여객(화물)주차장       원활  71.32%   \n",
       "10      JEJU INTERNATIONAL AIRPORT  제주국제공항           여객       혼잡  92.68%   \n",
       "11      JEJU INTERNATIONAL AIRPORT  제주국제공항           화물       원활  10.53%   \n",
       "12     DAEGU INTERNATIONAL AIRPORT  대구국제공항           일반       원활  74.05%   \n",
       "13     DAEGU INTERNATIONAL AIRPORT  대구국제공항        화물주차장       원활      0%   \n",
       "14                 GWANGJU AIRPORT    광주공항        제1주차장       만차    100%   \n",
       "15                 GWANGJU AIRPORT    광주공항        제2주차장       만차    100%   \n",
       "16                   YEOSU AIRPORT    여수공항        제1주차장       원활  83.61%   \n",
       "17                   YEOSU AIRPORT    여수공항        제2주차장       원활  76.56%   \n",
       "18                   ULSAN AIRPORT    울산공항           일반       원활  65.27%   \n",
       "19                  GUNSAN AIRPORT    군산공항           일반       원활  89.92%   \n",
       "20                   WONJU AIRPORT    원주공항           일반       만차  98.52%   \n",
       "21  CHEONGJU INTERNATIONAL AIRPORT  청주국제공항        제1주차장       만차  97.28%   \n",
       "22  CHEONGJU INTERNATIONAL AIRPORT  청주국제공항        제2주차장       원활  69.29%   \n",
       "\n",
       "   입고된 차량 수 전체 주차면 수  \n",
       "0        51      332  \n",
       "1      2067     2279  \n",
       "2      1551     1746  \n",
       "3         0      567  \n",
       "4       231     1200  \n",
       "5       614     1137  \n",
       "6      1512     2342  \n",
       "7      1108     1793  \n",
       "8       435      984  \n",
       "9       475      666  \n",
       "10     1723     1859  \n",
       "11       32      304  \n",
       "12     1033     1395  \n",
       "13        0       34  \n",
       "14      540      540  \n",
       "15      400      400  \n",
       "16      347      415  \n",
       "17      160      209  \n",
       "18      297      455  \n",
       "19      321      357  \n",
       "20      133      135  \n",
       "21     2143     2203  \n",
       "22     1180     1703  "
      ]
     },
     "execution_count": 167,
     "metadata": {},
     "output_type": "execute_result"
    }
   ],
   "source": [
    "df"
   ]
  }
 ],
 "metadata": {
  "kernelspec": {
   "display_name": "Python 3 (ipykernel)",
   "language": "python",
   "name": "python3"
  },
  "language_info": {
   "codemirror_mode": {
    "name": "ipython",
    "version": 3
   },
   "file_extension": ".py",
   "mimetype": "text/x-python",
   "name": "python",
   "nbconvert_exporter": "python",
   "pygments_lexer": "ipython3",
   "version": "3.9.12"
  }
 },
 "nbformat": 4,
 "nbformat_minor": 5
}

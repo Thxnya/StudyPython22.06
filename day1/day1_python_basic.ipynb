{
 "cells": [
  {
   "cell_type": "markdown",
   "metadata": {},
   "source": [
    "### 파이썬 기초"
   ]
  },
  {
   "cell_type": "code",
   "execution_count": null,
   "metadata": {},
   "outputs": [],
   "source": [
    "\"\"\"\n",
    "[문제]\n",
    "dict_val이라는 딕셔너리 변수에 아래 값을 넣기\n",
    "a키에는 리스트 \"aa\", \"bb\", \"cc\" 넣기\n",
    "b키에는 리스트 \"a\", \"b\", \"c\" 넣기\n",
    "\n",
    "dict_val에 들어있는 키값에 대한 리스트 출력하기\n",
    "\"\"\""
   ]
  },
  {
   "cell_type": "code",
   "execution_count": 3,
   "metadata": {},
   "outputs": [
    {
     "data": {
      "text/plain": [
       "{'a': ['aa', 'bb', 'cc'], 'b': ['a', 'b', 'c']}"
      ]
     },
     "execution_count": 3,
     "metadata": {},
     "output_type": "execute_result"
    }
   ],
   "source": [
    "dict_val = {'a' : ['aa','bb','cc'], 'b' : ['a', 'b', 'c']}\n",
    "dict_val"
   ]
  },
  {
   "cell_type": "code",
   "execution_count": 43,
   "metadata": {},
   "outputs": [
    {
     "name": "stdout",
     "output_type": "stream",
     "text": [
      "['aa', 'bb', 'cc']\n",
      "['a', 'b', 'c']\n"
     ]
    }
   ],
   "source": [
    "for k in dict_val:\n",
    "    print(dict_val[k])"
   ]
  },
  {
   "cell_type": "code",
   "execution_count": 47,
   "metadata": {},
   "outputs": [
    {
     "name": "stdout",
     "output_type": "stream",
     "text": [
      "['aa', 'bb', 'cc']\n",
      "aa\n",
      "bb\n",
      "cc\n",
      "aa\n",
      "bb\n",
      "cc\n",
      "aa\n",
      "bb\n",
      "cc\n",
      "aa\n",
      "bb\n",
      "cc\n",
      "['a', 'b', 'c']\n",
      "a\n",
      "b\n",
      "c\n",
      "a\n",
      "b\n",
      "c\n",
      "a\n",
      "b\n",
      "c\n",
      "a\n",
      "b\n",
      "c\n"
     ]
    }
   ],
   "source": [
    "for k in dict_val:\n",
    "    # key의 값 가지고 오기\n",
    "    print(dict_val[k])\n",
    "    list_val = dict_val[k]\n",
    "    # 리스트의 값을 이용하는 방식\n",
    "    for i in dict_val[k]:\n",
    "        print(i)\n",
    "    # 리스트의 인덱스번호를 이용하는 방식\n",
    "    for i in range(len(dict_val[k])):\n",
    "        print(dict_val[k][i])\n",
    "        \n",
    "    for i in list_val:\n",
    "        print(i)\n",
    "    for i in range(len(list_val)):\n",
    "        print(list_val[i])"
   ]
  },
  {
   "cell_type": "code",
   "execution_count": null,
   "metadata": {},
   "outputs": [],
   "source": [
    "\"\"\"\n",
    "list_val 이라는 리스트 변수에 딕셔너리 값을 넣겠습니다.\n",
    "첫번째 리스트값에는 a키, 값은 리스트 \"aa\", \"bb\", \"cc\" 넣기\n",
    "두번째 리스트에는 b키, 값은 리스트 \"a\", \"b\", \"c\" 넣기\n",
    "\"\"\""
   ]
  },
  {
   "cell_type": "code",
   "execution_count": 50,
   "metadata": {},
   "outputs": [
    {
     "data": {
      "text/plain": [
       "[{'a': ['aa', 'bb', 'cc']}, {'b': ['a', 'b', 'c']}]"
      ]
     },
     "execution_count": 50,
     "metadata": {},
     "output_type": "execute_result"
    }
   ],
   "source": [
    "list_val = [{'a':['aa','bb','cc']}, {'b':['a','b','c']}]\n",
    "list_val"
   ]
  },
  {
   "cell_type": "code",
   "execution_count": 53,
   "metadata": {},
   "outputs": [
    {
     "data": {
      "text/plain": [
       "[{'a': ['aa', 'bb', 'cc']}, {'b': ['a', 'b', 'c']}]"
      ]
     },
     "execution_count": 53,
     "metadata": {},
     "output_type": "execute_result"
    }
   ],
   "source": [
    "dict1 = {'a':['aa','bb','cc']}\n",
    "dict2 = {'b':['a','b','c']}\n",
    "list_val2 = [dict1, dict2]\n",
    "list_val2"
   ]
  },
  {
   "cell_type": "code",
   "execution_count": null,
   "metadata": {},
   "outputs": [],
   "source": [
    "# list_val에 들어있는 딕셔너리의 키에 대응하는 값들을 모두 출력해 주세요..."
   ]
  },
  {
   "cell_type": "code",
   "execution_count": 65,
   "metadata": {},
   "outputs": [
    {
     "name": "stdout",
     "output_type": "stream",
     "text": [
      "{'a': ['aa', 'bb', 'cc']}\n",
      "['aa', 'bb', 'cc']\n",
      "aa\n",
      "bb\n",
      "cc\n",
      "{'b': ['a', 'b', 'c']}\n",
      "['a', 'b', 'c']\n",
      "a\n",
      "b\n",
      "c\n"
     ]
    }
   ],
   "source": [
    "for d in list_val:\n",
    "    print(d)\n",
    "    \n",
    "    for k in d:\n",
    "        print(d[k])\n",
    "        \n",
    "        for v in d[k]:\n",
    "            print(v)"
   ]
  },
  {
   "cell_type": "code",
   "execution_count": 62,
   "metadata": {},
   "outputs": [
    {
     "name": "stdout",
     "output_type": "stream",
     "text": [
      "{'a': ['aa', 'bb', 'cc']}\n",
      "['aa', 'bb', 'cc']\n",
      "aa\n",
      "bb\n",
      "cc\n",
      "{'b': ['a', 'b', 'c']}\n",
      "['a', 'b', 'c']\n",
      "a\n",
      "b\n",
      "c\n"
     ]
    }
   ],
   "source": [
    "for i in range(len(list_val)):\n",
    "    print(list_val[i])\n",
    "    \n",
    "    for j in list_val[i]:\n",
    "        print(list_val[i][j])\n",
    "        \n",
    "        for y in list_val[i][j]:\n",
    "            print(y)"
   ]
  },
  {
   "cell_type": "code",
   "execution_count": null,
   "metadata": {},
   "outputs": [],
   "source": [
    "# 위에 list_val에 들어있는 딕셔너리의 키에 대응하는 값 중에\n",
    "# \"b\"라는 값이 들어 있으면 해당 키에 대응하는 값을\n",
    "# list_temp 라는 리스트변수에 담아주세요\n",
    "# list_temp에 값이 잘 담겨져 있는지 출력하기.."
   ]
  },
  {
   "cell_type": "code",
   "execution_count": 66,
   "metadata": {},
   "outputs": [],
   "source": [
    "import re"
   ]
  },
  {
   "cell_type": "code",
   "execution_count": 84,
   "metadata": {},
   "outputs": [],
   "source": [
    "list_temp = []"
   ]
  },
  {
   "cell_type": "code",
   "execution_count": 73,
   "metadata": {},
   "outputs": [],
   "source": [
    "for d in list_val:\n",
    "    \n",
    "    for k in d:\n",
    "        \n",
    "        for v in d[k]:\n",
    "            if re.search('b', v):\n",
    "                list_temp.append(v)"
   ]
  },
  {
   "cell_type": "code",
   "execution_count": 86,
   "metadata": {},
   "outputs": [],
   "source": [
    "for d in list_val:\n",
    "    \n",
    "    for k in d:\n",
    "        \n",
    "        for v in d[k]:\n",
    "            # find 함수 이용하기\n",
    "            if v.find('b') != -1:\n",
    "                list_temp.append(v)\n",
    "                \n",
    "#             for o in v:\n",
    "#                 if o == 'b':\n",
    "#                     list_temp.append(v)\n",
    "#                     break            "
   ]
  },
  {
   "cell_type": "code",
   "execution_count": 87,
   "metadata": {},
   "outputs": [
    {
     "data": {
      "text/plain": [
       "['bb', 'b']"
      ]
     },
     "execution_count": 87,
     "metadata": {},
     "output_type": "execute_result"
    }
   ],
   "source": [
    "list_temp"
   ]
  }
 ],
 "metadata": {
  "interpreter": {
   "hash": "b9a097e3fd406bd709024f7da75d47a4526255b5a8c765cb21687f1493a65c0e"
  },
  "kernelspec": {
   "display_name": "Python 3 (ipykernel)",
   "language": "python",
   "name": "python3"
  },
  "language_info": {
   "codemirror_mode": {
    "name": "ipython",
    "version": 3
   },
   "file_extension": ".py",
   "mimetype": "text/x-python",
   "name": "python",
   "nbconvert_exporter": "python",
   "pygments_lexer": "ipython3",
   "version": "3.9.12"
  }
 },
 "nbformat": 4,
 "nbformat_minor": 2
}

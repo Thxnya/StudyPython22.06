{
 "cells": [
  {
   "cell_type": "code",
   "execution_count": 3,
   "id": "357ac0da",
   "metadata": {},
   "outputs": [],
   "source": [
    "import pandas as pd"
   ]
  },
  {
   "cell_type": "code",
   "execution_count": 48,
   "id": "37c95546",
   "metadata": {},
   "outputs": [],
   "source": [
    "# 4개 데이터 기준값\n",
    "nm_list = ['20','30','40','53']\n",
    "\n",
    "# 4개 엑셀 시트 기준값\n",
    "sheet_list = ['20table_명세서일반내역',\n",
    "              '30table_진료내역',\n",
    "              '40table_상병',\n",
    "              '53table_처방전상세내역']\n",
    "\n",
    "# 4개의 데이터 프레임 저장\n",
    "df_dict = {}\n",
    "\n",
    "# 4개의 시트 조회값 저장\n",
    "df_col_dict = {}\n",
    "\n",
    "# 4개의 시트 컬럼명 저장\n",
    "df_col_dict_name = {}\n",
    "\n",
    "# 4개의 데이터 프레임 컬럼명 한국어로 변경\n",
    "df_dict_kor = {}\n",
    "\n",
    "# 4개의 파일이름 리스트\n",
    "df_dict_kor_name = ['20TABLE_kor_명세서일반내역',\n",
    "                    '30TABLE_kor_진료내역',\n",
    "                    '40TABLE_kor_상병',\n",
    "                    '53TABLE_kor_처방전상세내역']"
   ]
  },
  {
   "cell_type": "code",
   "execution_count": 49,
   "id": "81f4c7d8",
   "metadata": {
    "scrolled": true
   },
   "outputs": [],
   "source": [
    "for i in nm_list:\n",
    "    file_path = './files_org/SAMPLE_DB_{}TABLE_2013.txt'.format(i)\n",
    "    df_dict['df_{}TABLE'.format(i)] = pd.read_csv(file_path)"
   ]
  },
  {
   "cell_type": "code",
   "execution_count": 50,
   "id": "688a3f43",
   "metadata": {},
   "outputs": [],
   "source": [
    "for i in range(len(sheet_list)):\n",
    "    file_path = './files_org/표본자료 변수 테이블(2012-2013).xlsx'\n",
    "    df_col_dict['df_{}TABLE_col'.format(nm_list[i])] = pd.read_excel(file_path,\n",
    "                                                       sheet_name='{}'.format(sheet_list[i]),\n",
    "                                                       usecols='A,D').to_dict('records')\n",
    "    for j in df_col_dict['df_{}TABLE_col'.format(nm_list[i])]:\n",
    "        key, value = j.values()\n",
    "        df_col_dict_name[key] = value"
   ]
  },
  {
   "cell_type": "code",
   "execution_count": 56,
   "id": "9e44e495",
   "metadata": {
    "scrolled": true
   },
   "outputs": [],
   "source": [
    "for i in nm_list:\n",
    "    df_dict_kor['df_{}TABLE_kor'.format(i)] = df_dict['df_{}TABLE'.format(i)].rename(columns=df_col_dict_name)"
   ]
  },
  {
   "cell_type": "code",
   "execution_count": 62,
   "id": "4788d74a",
   "metadata": {},
   "outputs": [],
   "source": [
    "for i in range(len(nm_list)):\n",
    "    df_dict_kor['df_{}TABLE_kor'.format(nm_list[i])].to_excel('./files_new2/df_{}.xlsx'.format(df_dict_kor_name[i]), index=False)"
   ]
  },
  {
   "cell_type": "markdown",
   "id": "43069844",
   "metadata": {},
   "source": [
    "### 강사님 풀이"
   ]
  },
  {
   "cell_type": "code",
   "execution_count": 64,
   "id": "99a65ee2",
   "metadata": {},
   "outputs": [],
   "source": [
    "nm_list = ['20','30','40','53']\n",
    "sheet_list = ['20table_명세서일반내역',\n",
    "              '30table_진료내역',\n",
    "              '40table_상병',\n",
    "              '53table_처방전상세내역']\n",
    "df_dict = {}\n",
    "df_col_dict = {}\n",
    "\n",
    "file_path = './files_org/표본자료 변수 테이블(2012-2013).xlsx'\n",
    "\n",
    "for i in range(0, len(nm_list)):\n",
    "    \n",
    "    # 파일을 불러와서 df_dict에 저장\n",
    "    df_dict[nm_list[i]] = pd.read_csv('./files_org/SAMPLE_DB_{}TABLE_2013.txt'.format(nm_list[i]))\n",
    "    \n",
    "    # 시트에서 한글 컬럼명불러와서 df_col_dict에 저장\n",
    "    df_col_dict[nm_list[i]] = pd.read_excel(file_path, sheet_name = sheet_list[i],\n",
    "                                            usecols='A,D')\n",
    "    \n",
    "    # 한글과 영문 컬럼명 딕셔너리로 만들기\n",
    "    new_dict = {}\n",
    "    \n",
    "    for j in range(0, len(df_col_dict[nm_list[i]])):\n",
    "        new_dict[df_col_dict[nm_list[i]].to_dict('records')[j]['변수명']] = \\\n",
    "        df_col_dict[nm_list[i]].to_dict('records')[j]['표준한글컬럼명']\n",
    "        \n",
    "    # 컬럼명 영문명에서 한글로 변경하고 파일로 저장\n",
    "    df_dict[nm_list[i]].rename(columns=new_dict).to_excel(\n",
    "    './files_new2/df_kor_{}.xlsx'.format(sheet_list[i]),\n",
    "        index=False\n",
    "    )"
   ]
  }
 ],
 "metadata": {
  "kernelspec": {
   "display_name": "Python 3 (ipykernel)",
   "language": "python",
   "name": "python3"
  },
  "language_info": {
   "codemirror_mode": {
    "name": "ipython",
    "version": 3
   },
   "file_extension": ".py",
   "mimetype": "text/x-python",
   "name": "python",
   "nbconvert_exporter": "python",
   "pygments_lexer": "ipython3",
   "version": "3.9.12"
  }
 },
 "nbformat": 4,
 "nbformat_minor": 5
}

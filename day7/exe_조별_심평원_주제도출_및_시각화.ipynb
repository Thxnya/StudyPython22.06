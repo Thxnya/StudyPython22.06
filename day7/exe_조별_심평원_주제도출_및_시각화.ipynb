{
 "cells": [
  {
   "cell_type": "code",
   "execution_count": null,
   "id": "969e69e5",
   "metadata": {},
   "outputs": [],
   "source": [
    "'''\n",
    "1. 시각적으로 표현할 분석 소주제 5개 이상 선정\n",
    "2. 전처리(결측/이상/중복) 모두 처리 진행\n",
    "    - 이상치 계산 가능한 데이터는 계산하여 이상데이터 확인\n",
    "3. 주제별 시각화 그래프 2개 이상\n",
    "----------------------------------------\n",
    "4. 주제별 분석내용 작성 : 개인별로 작성\n",
    "5. 제출 : 분석내용 + 가공데이터파일 + ipynb 파일\n",
    "    - 제출 형식 : 모두 압축해서 : 본인이름.zip\n",
    "    - 제출 위치 : 구글드라이브 > 3_산출물 > 1_심평원분석\n",
    "6. 문제해결 : 조별로 스터디 하면서 해결\n",
    "'''"
   ]
  }
 ],
 "metadata": {
  "kernelspec": {
   "display_name": "Python 3 (ipykernel)",
   "language": "python",
   "name": "python3"
  },
  "language_info": {
   "codemirror_mode": {
    "name": "ipython",
    "version": 3
   },
   "file_extension": ".py",
   "mimetype": "text/x-python",
   "name": "python",
   "nbconvert_exporter": "python",
   "pygments_lexer": "ipython3",
   "version": "3.9.12"
  }
 },
 "nbformat": 4,
 "nbformat_minor": 5
}
